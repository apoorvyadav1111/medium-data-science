{
  "nbformat": 4,
  "nbformat_minor": 0,
  "metadata": {
    "colab": {
      "name": "Activation functions.ipynb",
      "provenance": [],
      "authorship_tag": "ABX9TyO8tW3QR+Heu7X9ObG22Fcn",
      "include_colab_link": true
    },
    "kernelspec": {
      "name": "python3",
      "display_name": "Python 3"
    }
  },
  "cells": [
    {
      "cell_type": "markdown",
      "metadata": {
        "id": "view-in-github",
        "colab_type": "text"
      },
      "source": [
        "<a href=\"https://colab.research.google.com/github/apoorvyadav1111/medium-data-science/blob/master/What%20is%20an%20Activation%20functions.ipynb\" target=\"_parent\"><img src=\"https://colab.research.google.com/assets/colab-badge.svg\" alt=\"Open In Colab\"/></a>"
      ]
    },
    {
      "cell_type": "markdown",
      "metadata": {
        "id": "WkvpV4t1JfAR",
        "colab_type": "text"
      },
      "source": [
        "## Using a random generator to try out the funtion"
      ]
    },
    {
      "cell_type": "code",
      "metadata": {
        "id": "1_cNfAwAJfMo",
        "colab_type": "code",
        "colab": {}
      },
      "source": [
        "import random\n",
        "from math import exp"
      ],
      "execution_count": 9,
      "outputs": []
    },
    {
      "cell_type": "markdown",
      "metadata": {
        "id": "u5rxNNPyI9RU",
        "colab_type": "text"
      },
      "source": [
        "## 1. Step Function"
      ]
    },
    {
      "cell_type": "code",
      "metadata": {
        "id": "pipJFtmbIyl0",
        "colab_type": "code",
        "colab": {}
      },
      "source": [
        "def step(x,threshold = 0):\n",
        "  if x>threshold:\n",
        "    return 1\n",
        "  else:\n",
        "    return 0"
      ],
      "execution_count": 1,
      "outputs": []
    },
    {
      "cell_type": "code",
      "metadata": {
        "id": "_hv2lzTNJcb1",
        "colab_type": "code",
        "colab": {
          "base_uri": "https://localhost:8080/",
          "height": 202
        },
        "outputId": "06c29f3f-0911-4eae-c27e-f1e1fe4ae5c2"
      },
      "source": [
        "for i in range(10):\n",
        "  x = random.randint(-10000,10000)\n",
        "  print(\"Input :\", x,\" Output : \",step(x))"
      ],
      "execution_count": 6,
      "outputs": [
        {
          "output_type": "stream",
          "text": [
            "Input : -441  Output :  0\n",
            "Input : -9846  Output :  0\n",
            "Input : -1790  Output :  0\n",
            "Input : 9248  Output :  1\n",
            "Input : -2543  Output :  0\n",
            "Input : -6990  Output :  0\n",
            "Input : 9159  Output :  1\n",
            "Input : 3421  Output :  1\n",
            "Input : 4294  Output :  1\n",
            "Input : -9917  Output :  0\n"
          ],
          "name": "stdout"
        }
      ]
    },
    {
      "cell_type": "markdown",
      "metadata": {
        "id": "310m1yM-KfUu",
        "colab_type": "text"
      },
      "source": [
        "## 2. Linear Function:"
      ]
    },
    {
      "cell_type": "code",
      "metadata": {
        "id": "mT-oWzm6KNNc",
        "colab_type": "code",
        "colab": {}
      },
      "source": [
        "def linear(x,a = 1):\n",
        "  return a*x"
      ],
      "execution_count": 7,
      "outputs": []
    },
    {
      "cell_type": "code",
      "metadata": {
        "id": "B6HcyZOWK0fZ",
        "colab_type": "code",
        "colab": {
          "base_uri": "https://localhost:8080/",
          "height": 202
        },
        "outputId": "02831bab-2ab0-4b4f-9f6a-a8d12062a90a"
      },
      "source": [
        "for i in range(10):\n",
        "  x = random.randint(-10000,10000)\n",
        "  print(\"Input :\", x,\" Output : \",linear(x))"
      ],
      "execution_count": 8,
      "outputs": [
        {
          "output_type": "stream",
          "text": [
            "Input : 1962  Output :  1962\n",
            "Input : -4864  Output :  -4864\n",
            "Input : 2608  Output :  2608\n",
            "Input : -8434  Output :  -8434\n",
            "Input : -6640  Output :  -6640\n",
            "Input : -9329  Output :  -9329\n",
            "Input : 946  Output :  946\n",
            "Input : 3689  Output :  3689\n",
            "Input : -3212  Output :  -3212\n",
            "Input : -4924  Output :  -4924\n"
          ],
          "name": "stdout"
        }
      ]
    },
    {
      "cell_type": "markdown",
      "metadata": {
        "id": "Ljduke5nLbX_",
        "colab_type": "text"
      },
      "source": [
        "### 3. Sigmoid Function"
      ]
    },
    {
      "cell_type": "code",
      "metadata": {
        "id": "d1Sit-MSK31Z",
        "colab_type": "code",
        "colab": {}
      },
      "source": [
        "def sigmoid(x):\n",
        "  ##fail for negative numbers use np.exp for them\n",
        "  z_inv = 1 + exp(-x)\n",
        "  z = 1/z_inv\n",
        "  return z"
      ],
      "execution_count": 26,
      "outputs": []
    },
    {
      "cell_type": "code",
      "metadata": {
        "id": "ukdWiAbnL4KJ",
        "colab_type": "code",
        "colab": {
          "base_uri": "https://localhost:8080/",
          "height": 202
        },
        "outputId": "792e7605-be36-4974-b9f3-a4027e472e1b"
      },
      "source": [
        "for i in range(10):\n",
        "  x = random.randint(-10,10)\n",
        "  print(\"Input :\", x,\" Output : \",sigmoid(x))"
      ],
      "execution_count": 32,
      "outputs": [
        {
          "output_type": "stream",
          "text": [
            "Input : 4  Output :  0.9820137900379085\n",
            "Input : 1  Output :  0.7310585786300049\n",
            "Input : -9  Output :  0.00012339457598623172\n",
            "Input : 4  Output :  0.9820137900379085\n",
            "Input : 1  Output :  0.7310585786300049\n",
            "Input : 9  Output :  0.9998766054240137\n",
            "Input : -10  Output :  4.5397868702434395e-05\n",
            "Input : 1  Output :  0.7310585786300049\n",
            "Input : -5  Output :  0.0066928509242848554\n",
            "Input : 10  Output :  0.9999546021312976\n"
          ],
          "name": "stdout"
        }
      ]
    },
    {
      "cell_type": "markdown",
      "metadata": {
        "id": "qt27gmhLN3hX",
        "colab_type": "text"
      },
      "source": [
        "### 4. Tanh Function:"
      ]
    },
    {
      "cell_type": "code",
      "metadata": {
        "id": "YMti3BcqMCwn",
        "colab_type": "code",
        "colab": {}
      },
      "source": [
        "def tanh(x):\n",
        "  #using sigmoid created above\n",
        "  z = 2*sigmoid(2*x) - 1\n",
        "  return z"
      ],
      "execution_count": 28,
      "outputs": []
    },
    {
      "cell_type": "code",
      "metadata": {
        "id": "LK8e3D2HOPzh",
        "colab_type": "code",
        "colab": {
          "base_uri": "https://localhost:8080/",
          "height": 202
        },
        "outputId": "404de536-1e53-4bb7-80df-b107b5e5cddf"
      },
      "source": [
        "for i in range(10):\n",
        "  x = random.randint(-100,100)\n",
        "  print(\"Input :\", x,\" Output : \",tanh(x))"
      ],
      "execution_count": 31,
      "outputs": [
        {
          "output_type": "stream",
          "text": [
            "Input : -2  Output :  -0.9640275800758169\n",
            "Input : 80  Output :  1.0\n",
            "Input : -23  Output :  -1.0\n",
            "Input : 39  Output :  1.0\n",
            "Input : -21  Output :  -1.0\n",
            "Input : -35  Output :  -1.0\n",
            "Input : -43  Output :  -1.0\n",
            "Input : 73  Output :  1.0\n",
            "Input : 59  Output :  1.0\n",
            "Input : -6  Output :  -0.9999877116507956\n"
          ],
          "name": "stdout"
        }
      ]
    },
    {
      "cell_type": "markdown",
      "metadata": {
        "id": "3Elt79MJOchw",
        "colab_type": "text"
      },
      "source": [
        "### 5. ReLu"
      ]
    },
    {
      "cell_type": "code",
      "metadata": {
        "id": "DucC94fIOTIA",
        "colab_type": "code",
        "colab": {}
      },
      "source": [
        "def relu(x):\n",
        "  if x>=0:\n",
        "    return x\n",
        "  else:\n",
        "    return 0"
      ],
      "execution_count": 33,
      "outputs": []
    },
    {
      "cell_type": "code",
      "metadata": {
        "id": "9m4p8xhxOnv4",
        "colab_type": "code",
        "colab": {
          "base_uri": "https://localhost:8080/",
          "height": 202
        },
        "outputId": "e7c818f7-b2b9-4c94-ef52-0f3cc4208501"
      },
      "source": [
        "for i in range(10):\n",
        "  x = random.randint(-100,100)\n",
        "  print(\"Input :\", x,\" Output : \",relu(x))"
      ],
      "execution_count": 34,
      "outputs": [
        {
          "output_type": "stream",
          "text": [
            "Input : -92  Output :  0\n",
            "Input : -28  Output :  0\n",
            "Input : 48  Output :  48\n",
            "Input : 38  Output :  38\n",
            "Input : -16  Output :  0\n",
            "Input : 47  Output :  47\n",
            "Input : -93  Output :  0\n",
            "Input : -69  Output :  0\n",
            "Input : -81  Output :  0\n",
            "Input : -83  Output :  0\n"
          ],
          "name": "stdout"
        }
      ]
    },
    {
      "cell_type": "markdown",
      "metadata": {
        "id": "5y_ge6lCOtRJ",
        "colab_type": "text"
      },
      "source": [
        "## 6. Leaky Relu"
      ]
    },
    {
      "cell_type": "code",
      "metadata": {
        "id": "tZVexsuMOrD8",
        "colab_type": "code",
        "colab": {}
      },
      "source": [
        "def leaky(x,a=0.001):\n",
        "  if x>=0:\n",
        "    return x\n",
        "  else:\n",
        "    return x*a"
      ],
      "execution_count": 37,
      "outputs": []
    },
    {
      "cell_type": "code",
      "metadata": {
        "id": "kQ2WiASXO4_1",
        "colab_type": "code",
        "colab": {
          "base_uri": "https://localhost:8080/",
          "height": 202
        },
        "outputId": "0869fac1-d8d5-4f7a-a506-b35445687223"
      },
      "source": [
        "for i in range(10):\n",
        "  x = random.randint(-100,100)\n",
        "  print(\"Input :\", x,\" Output : \",leaky(x))"
      ],
      "execution_count": 38,
      "outputs": [
        {
          "output_type": "stream",
          "text": [
            "Input : 100  Output :  100\n",
            "Input : -31  Output :  -0.031\n",
            "Input : 72  Output :  72\n",
            "Input : 72  Output :  72\n",
            "Input : 35  Output :  35\n",
            "Input : 35  Output :  35\n",
            "Input : 73  Output :  73\n",
            "Input : -48  Output :  -0.048\n",
            "Input : 1  Output :  1\n",
            "Input : 87  Output :  87\n"
          ],
          "name": "stdout"
        }
      ]
    },
    {
      "cell_type": "markdown",
      "metadata": {
        "id": "EQpb-851PP6Z",
        "colab_type": "text"
      },
      "source": [
        "## 7. Softmax Function:"
      ]
    },
    {
      "cell_type": "code",
      "metadata": {
        "id": "9gHasAhPO8Wa",
        "colab_type": "code",
        "colab": {}
      },
      "source": [
        "def softmax(x):\n",
        "  sigma = []\n",
        "  for i in x:\n",
        "    sigma.append(exp(i))\n",
        "  sum_exp = sum(sigma)\n",
        "  for i in range(len(sigma)):\n",
        "    sigma[i] = sigma[i]/ sum_exp\n",
        "  return sigma"
      ],
      "execution_count": 42,
      "outputs": []
    },
    {
      "cell_type": "code",
      "metadata": {
        "id": "0Nf2b88pPtxe",
        "colab_type": "code",
        "colab": {
          "base_uri": "https://localhost:8080/",
          "height": 387
        },
        "outputId": "d9306f9c-a998-4324-db96-a1a333561ca3"
      },
      "source": [
        "for _ in range(10):\n",
        "  x = []\n",
        "  for j in range(10):\n",
        "    x.append(random.random())\n",
        "  print(\"Input :\", x,\"\\n Output : \",softmax(x))"
      ],
      "execution_count": 44,
      "outputs": [
        {
          "output_type": "stream",
          "text": [
            "Input : [0.5045680404443327, 0.03869488787524755, 0.24079069906407424, 0.5235474811357758, 0.11123953061417902, 0.870631509844247, 0.3910364730393858, 0.5643006329966103, 0.9188671680582473, 0.7755027877793316] \n",
            " Output :  [0.09698875302367627, 0.060868869563074586, 0.07450138249484259, 0.09884712495458434, 0.06544869241272876, 0.13986231759668027, 0.08657953369458482, 0.10295866696859862, 0.14677402383721494, 0.1271706354540148]\n",
            "Input : [0.7081506887335213, 0.752412715389826, 0.15406132957684116, 0.7066038390841487, 0.4799658041000092, 0.3867641274031822, 0.7568892197543099, 0.11681550681653396, 0.21518991770638196, 0.41586768840960053] \n",
            " Output :  [0.1234517348848643, 0.12903869178261074, 0.07093478330186113, 0.12326092123010805, 0.09826475173844046, 0.08952014714403456, 0.12961762889002615, 0.06834135590834431, 0.07540619986845852, 0.09216378525125195]\n",
            "Input : [0.07532575353410487, 0.7001358287617693, 0.7708785640375566, 0.10590931566534367, 0.7217726741106555, 0.6833380017949235, 0.9108303324079031, 0.23252688794849052, 0.12016775122937073, 0.45279649013356094] \n",
            " Output :  [0.06397973354126832, 0.11950717901676486, 0.1282676607594465, 0.06596669094137346, 0.12212111404519858, 0.11751648458148067, 0.1475358133479803, 0.07487106525534276, 0.06691401035055944, 0.09332024816058522]\n",
            "Input : [0.326549657589833, 0.1571973986319819, 0.8266327466323589, 0.6376904089707763, 0.5483195238367454, 0.022451635328674446, 0.820512245874173, 0.7438293778076172, 0.7194117646210179, 0.42000299961492926] \n",
            " Output :  [0.07949175229171082, 0.06710784905106289, 0.1310706329295332, 0.10850475782068865, 0.09922828828146975, 0.058648104120093636, 0.1302708650080396, 0.12065472953249873, 0.11774430641350035, 0.08727871455140246]\n",
            "Input : [0.8958982778628065, 0.817929550169176, 0.602976851871828, 0.49512766671691755, 0.7782689778257857, 0.7657996527630939, 0.9004782931692296, 0.5092377671270258, 0.5537999839237804, 0.699949242013857] \n",
            " Output :  [0.12013228629870877, 0.11112156627897887, 0.08962838757647824, 0.08046504852098994, 0.1068006722932114, 0.10547720849173148, 0.12068375591439952, 0.0816084663345438, 0.08532736632473674, 0.09875524196622136]\n",
            "Input : [0.3355969395967897, 0.48725142908448016, 0.27695593125648565, 0.4393941152692131, 0.03697924557442367, 0.5353419951645214, 0.027408279239381605, 0.27088887120394145, 0.03380406887620968, 0.8175217140884308] \n",
            " Output :  [0.09794405565657208, 0.11398318579705718, 0.09236567682267005, 0.10865672824987008, 0.07265910877279744, 0.11959864482863766, 0.07196700820762583, 0.09180698523604543, 0.07242876914174244, 0.1585898372869818]\n",
            "Input : [0.8750457533960992, 0.34420463922938194, 0.8343434842240298, 0.6372530042481517, 0.3017395802170053, 0.11428317818927525, 0.01938710468906868, 0.5254936191058037, 0.6983120705709309, 0.7377089022681804] \n",
            " Output :  [0.13874924833230295, 0.08159983345867014, 0.13321522668368319, 0.10938519874935744, 0.07820723496517562, 0.0648389018215291, 0.05896887052701009, 0.09781874260882091, 0.1162722765518365, 0.12094446630161404]\n",
            "Input : [0.8540496249399531, 0.39565669927806835, 0.8086687808604743, 0.5280963667741458, 0.8064781736863418, 0.3602471483241919, 0.5692727145316955, 0.6136497422775953, 0.597103105287872, 0.45568531262332446] \n",
            " Output :  [0.12727605560882851, 0.0804765202537837, 0.12162925805505974, 0.09187281137765592, 0.12136310775159459, 0.07767674473838701, 0.09573476309846769, 0.10007886358346572, 0.09843652005988342, 0.0854553554728737]\n",
            "Input : [0.9781671701509357, 0.38973232533533997, 0.5072985092449155, 0.5249088878784557, 0.7934746316420515, 0.7887099110970288, 0.9964826793921683, 0.35338586920975457, 0.49857211922740086, 0.7984587139061882] \n",
            " Output :  [0.13364717950242552, 0.07420032230788345, 0.08345726278073369, 0.08493999418958652, 0.11110889986608224, 0.11058075623574264, 0.13611754963882372, 0.07155182682417402, 0.08273215056335083, 0.1116640580911975]\n",
            "Input : [0.4596775853170938, 0.8883109357612423, 0.16957362198911363, 0.13440464156570853, 0.8624199930261558, 0.9292285308882895, 0.10182465202335256, 0.5873137355572994, 0.26600236849001213, 0.05751939608125545] \n",
            " Output :  [0.09588658797601052, 0.14720106896932403, 0.07174098158295256, 0.06926177551106232, 0.14343880891595004, 0.15334910640992677, 0.06704159076923734, 0.10894054427963118, 0.07900340090865317, 0.06413613467725202]\n"
          ],
          "name": "stdout"
        }
      ]
    },
    {
      "cell_type": "code",
      "metadata": {
        "id": "klV-m7ZZP_hM",
        "colab_type": "code",
        "colab": {}
      },
      "source": [
        ""
      ],
      "execution_count": null,
      "outputs": []
    }
  ]
}