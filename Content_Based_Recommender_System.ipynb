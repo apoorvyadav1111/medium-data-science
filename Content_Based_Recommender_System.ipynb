{
  "nbformat": 4,
  "nbformat_minor": 0,
  "metadata": {
    "colab": {
      "name": "Content Based Recommender System.ipynb",
      "provenance": [],
      "collapsed_sections": [],
      "authorship_tag": "ABX9TyOlQx4/p6KIloXFPtFngfcV",
      "include_colab_link": true
    },
    "kernelspec": {
      "name": "python3",
      "display_name": "Python 3"
    }
  },
  "cells": [
    {
      "cell_type": "markdown",
      "metadata": {
        "id": "view-in-github",
        "colab_type": "text"
      },
      "source": [
        "<a href=\"https://colab.research.google.com/github/apoorvyadav1111/medium-data-science/blob/master/Content_Based_Recommender_System.ipynb\" target=\"_parent\"><img src=\"https://colab.research.google.com/assets/colab-badge.svg\" alt=\"Open In Colab\"/></a>"
      ]
    },
    {
      "cell_type": "markdown",
      "metadata": {
        "id": "WlsYbI5Yibg8"
      },
      "source": [
        "## Content Based Recommender System\n",
        "\n",
        "![cbrs.png](data:image/png;base64,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)\n",
        "\n",
        "These systems use characteristics information of user and item/product. If a user was interested in a product in the past, They will probably be interested in the future. We can group items based on the similarities and use them as a candidate. You might have seen these in your e-commerce shopping apps, when you click on a product, you have 10–12 similar at the bottom.\n",
        "\n",
        "Let us load the libraries required for the system\n"
      ]
    },
    {
      "cell_type": "code",
      "metadata": {
        "id": "6xoZdh5uQyS1"
      },
      "source": [
        "#load the libraries\n",
        "import numpy as np\n",
        "import tensorflow as tf\n",
        "import pandas as pd\n",
        "from sklearn.feature_extraction.text import TfidfVectorizer\n",
        "from sklearn.metrics.pairwise import cosine_similarity"
      ],
      "execution_count": null,
      "outputs": []
    },
    {
      "cell_type": "markdown",
      "metadata": {
        "id": "v9u5IqXUj3NK"
      },
      "source": [
        "## Getting the MovieLens Dataset\n",
        "\n",
        "We are using the movielens dataset for this guide. The zip contains the following files.\n",
        "\n",
        "1.  movies.csv - movie id, name and genres associated\n",
        "2.  links.csv - contain values to link movies to other sources\n",
        "3.  ratings.csv - records of rating by user(id) for movie(id)\n",
        "4.  tags.csv - metadata about movies(id) provided by user(id)\n",
        "5.  genome-tags.csv - contains list all tags with unique identifiers\n",
        "6.  genome-scores.csv - contains relevance score for a movie wrt a tag\n",
        "\n",
        "\n",
        "\n",
        "\n",
        "\n",
        "\n",
        "\n"
      ]
    },
    {
      "cell_type": "code",
      "metadata": {
        "id": "w5Mt-49QVbUC",
        "outputId": "65a21da3-d709-40b2-e559-aa7eadbac9a7",
        "colab": {
          "base_uri": "https://localhost:8080/",
          "height": 364
        }
      },
      "source": [
        "!wget http://files.grouplens.org/datasets/movielens/ml-latest.zip\n",
        "!unzip ml-latest.zip"
      ],
      "execution_count": null,
      "outputs": [
        {
          "output_type": "stream",
          "text": [
            "--2020-10-25 14:09:14--  http://files.grouplens.org/datasets/movielens/ml-latest.zip\n",
            "Resolving files.grouplens.org (files.grouplens.org)... 128.101.65.152\n",
            "Connecting to files.grouplens.org (files.grouplens.org)|128.101.65.152|:80... connected.\n",
            "HTTP request sent, awaiting response... 200 OK\n",
            "Length: 277113433 (264M) [application/zip]\n",
            "Saving to: ‘ml-latest.zip’\n",
            "\n",
            "ml-latest.zip       100%[===================>] 264.28M  16.9MB/s    in 17s     \n",
            "\n",
            "2020-10-25 14:09:32 (15.8 MB/s) - ‘ml-latest.zip’ saved [277113433/277113433]\n",
            "\n",
            "Archive:  ml-latest.zip\n",
            "   creating: ml-latest/\n",
            "  inflating: ml-latest/links.csv     \n",
            "  inflating: ml-latest/tags.csv      \n",
            "  inflating: ml-latest/genome-tags.csv  \n",
            "  inflating: ml-latest/ratings.csv   \n",
            "  inflating: ml-latest/README.txt    \n",
            "  inflating: ml-latest/genome-scores.csv  \n",
            "  inflating: ml-latest/movies.csv    \n"
          ],
          "name": "stdout"
        }
      ]
    },
    {
      "cell_type": "markdown",
      "metadata": {
        "id": "PKqUc_mGl0sw"
      },
      "source": [
        "## Load Data into Pandas DataFrame and have a look"
      ]
    },
    {
      "cell_type": "code",
      "metadata": {
        "id": "2zBNoHMLXe1l"
      },
      "source": [
        "links = pd.read_csv('ml-latest/links.csv')\n",
        "movies = pd.read_csv('ml-latest/movies.csv')\n",
        "ratings = pd.read_csv('ml-latest/ratings.csv')\n",
        "tags = pd.read_csv('ml-latest/tags.csv')\n",
        "genome_tags = pd.read_csv('ml-latest/genome-tags.csv')\n",
        "genome_scores = pd.read_csv('ml-latest/genome-scores.csv')"
      ],
      "execution_count": null,
      "outputs": []
    },
    {
      "cell_type": "code",
      "metadata": {
        "id": "dwg-hA4xmD9m",
        "outputId": "8d297ff7-1f4a-4459-8e1d-af6fff0593cc",
        "colab": {
          "base_uri": "https://localhost:8080/",
          "height": 112
        }
      },
      "source": [
        "# we can observe that this df contains following data:\n",
        "# Movie Name\n",
        "# its unique identifier - movieId useful accross the Dataset\n",
        "# Genres: Genres associated with the movie\n",
        "\n",
        "movies.head(2)"
      ],
      "execution_count": null,
      "outputs": [
        {
          "output_type": "execute_result",
          "data": {
            "text/html": [
              "<div>\n",
              "<style scoped>\n",
              "    .dataframe tbody tr th:only-of-type {\n",
              "        vertical-align: middle;\n",
              "    }\n",
              "\n",
              "    .dataframe tbody tr th {\n",
              "        vertical-align: top;\n",
              "    }\n",
              "\n",
              "    .dataframe thead th {\n",
              "        text-align: right;\n",
              "    }\n",
              "</style>\n",
              "<table border=\"1\" class=\"dataframe\">\n",
              "  <thead>\n",
              "    <tr style=\"text-align: right;\">\n",
              "      <th></th>\n",
              "      <th>movieId</th>\n",
              "      <th>title</th>\n",
              "      <th>genres</th>\n",
              "    </tr>\n",
              "  </thead>\n",
              "  <tbody>\n",
              "    <tr>\n",
              "      <th>0</th>\n",
              "      <td>1</td>\n",
              "      <td>Toy Story (1995)</td>\n",
              "      <td>Adventure|Animation|Children|Comedy|Fantasy</td>\n",
              "    </tr>\n",
              "    <tr>\n",
              "      <th>1</th>\n",
              "      <td>2</td>\n",
              "      <td>Jumanji (1995)</td>\n",
              "      <td>Adventure|Children|Fantasy</td>\n",
              "    </tr>\n",
              "  </tbody>\n",
              "</table>\n",
              "</div>"
            ],
            "text/plain": [
              "   movieId             title                                       genres\n",
              "0        1  Toy Story (1995)  Adventure|Animation|Children|Comedy|Fantasy\n",
              "1        2    Jumanji (1995)                   Adventure|Children|Fantasy"
            ]
          },
          "metadata": {
            "tags": []
          },
          "execution_count": 4
        }
      ]
    },
    {
      "cell_type": "code",
      "metadata": {
        "id": "dlRcUzd0mIlo",
        "outputId": "a2dc05c9-fd05-4f06-a1b7-40de464ec807",
        "colab": {
          "base_uri": "https://localhost:8080/",
          "height": 112
        }
      },
      "source": [
        "# This DF contains:\n",
        "# userId: Uniquer Identifier useful across the dataset\n",
        "# movieId\n",
        "# tag specified by that user to this movie\n",
        "# timestamp: time at which user assigned this tag\n",
        "\n",
        "tags.head(2)"
      ],
      "execution_count": null,
      "outputs": [
        {
          "output_type": "execute_result",
          "data": {
            "text/html": [
              "<div>\n",
              "<style scoped>\n",
              "    .dataframe tbody tr th:only-of-type {\n",
              "        vertical-align: middle;\n",
              "    }\n",
              "\n",
              "    .dataframe tbody tr th {\n",
              "        vertical-align: top;\n",
              "    }\n",
              "\n",
              "    .dataframe thead th {\n",
              "        text-align: right;\n",
              "    }\n",
              "</style>\n",
              "<table border=\"1\" class=\"dataframe\">\n",
              "  <thead>\n",
              "    <tr style=\"text-align: right;\">\n",
              "      <th></th>\n",
              "      <th>userId</th>\n",
              "      <th>movieId</th>\n",
              "      <th>tag</th>\n",
              "      <th>timestamp</th>\n",
              "    </tr>\n",
              "  </thead>\n",
              "  <tbody>\n",
              "    <tr>\n",
              "      <th>0</th>\n",
              "      <td>14</td>\n",
              "      <td>110</td>\n",
              "      <td>epic</td>\n",
              "      <td>1443148538</td>\n",
              "    </tr>\n",
              "    <tr>\n",
              "      <th>1</th>\n",
              "      <td>14</td>\n",
              "      <td>110</td>\n",
              "      <td>Medieval</td>\n",
              "      <td>1443148532</td>\n",
              "    </tr>\n",
              "  </tbody>\n",
              "</table>\n",
              "</div>"
            ],
            "text/plain": [
              "   userId  movieId       tag   timestamp\n",
              "0      14      110      epic  1443148538\n",
              "1      14      110  Medieval  1443148532"
            ]
          },
          "metadata": {
            "tags": []
          },
          "execution_count": 5
        }
      ]
    },
    {
      "cell_type": "code",
      "metadata": {
        "id": "m5ra29T-mBky",
        "outputId": "e2bfdd04-0f5c-47b8-a803-7bd5111725a1",
        "colab": {
          "base_uri": "https://localhost:8080/",
          "height": 112
        }
      },
      "source": [
        "# This is the ratings df containing following features\n",
        "# userId rating the movie\n",
        "# movieId\n",
        "# Rating provied by user. A decimal number from 1..5\n",
        "# timestamp: time at which user rated the movie\n",
        "\n",
        "ratings.head(2)"
      ],
      "execution_count": null,
      "outputs": [
        {
          "output_type": "execute_result",
          "data": {
            "text/html": [
              "<div>\n",
              "<style scoped>\n",
              "    .dataframe tbody tr th:only-of-type {\n",
              "        vertical-align: middle;\n",
              "    }\n",
              "\n",
              "    .dataframe tbody tr th {\n",
              "        vertical-align: top;\n",
              "    }\n",
              "\n",
              "    .dataframe thead th {\n",
              "        text-align: right;\n",
              "    }\n",
              "</style>\n",
              "<table border=\"1\" class=\"dataframe\">\n",
              "  <thead>\n",
              "    <tr style=\"text-align: right;\">\n",
              "      <th></th>\n",
              "      <th>userId</th>\n",
              "      <th>movieId</th>\n",
              "      <th>rating</th>\n",
              "      <th>timestamp</th>\n",
              "    </tr>\n",
              "  </thead>\n",
              "  <tbody>\n",
              "    <tr>\n",
              "      <th>0</th>\n",
              "      <td>1</td>\n",
              "      <td>307</td>\n",
              "      <td>3.5</td>\n",
              "      <td>1256677221</td>\n",
              "    </tr>\n",
              "    <tr>\n",
              "      <th>1</th>\n",
              "      <td>1</td>\n",
              "      <td>481</td>\n",
              "      <td>3.5</td>\n",
              "      <td>1256677456</td>\n",
              "    </tr>\n",
              "  </tbody>\n",
              "</table>\n",
              "</div>"
            ],
            "text/plain": [
              "   userId  movieId  rating   timestamp\n",
              "0       1      307     3.5  1256677221\n",
              "1       1      481     3.5  1256677456"
            ]
          },
          "metadata": {
            "tags": []
          },
          "execution_count": 6
        }
      ]
    },
    {
      "cell_type": "code",
      "metadata": {
        "id": "i2cgUcBdgClG",
        "outputId": "8c9b1508-fd70-4702-cea0-47f71b699144",
        "colab": {
          "base_uri": "https://localhost:8080/",
          "height": 112
        }
      },
      "source": [
        "# The DF genome_scores contains processed data provived in hand containing relevance of a tag associated with a movie\n",
        "# we can understand it by taking an example.\n",
        "# A tag associated to a Horror movie: \n",
        "# Thriller: can have high relevance with value closer to 1 e.g. 0.67, 0.89 etc\n",
        "# Comedy: can high smaller value of relevance like 0.001, 0.2 etc\n",
        "\n",
        "genome_scores.head(2)"
      ],
      "execution_count": null,
      "outputs": [
        {
          "output_type": "execute_result",
          "data": {
            "text/html": [
              "<div>\n",
              "<style scoped>\n",
              "    .dataframe tbody tr th:only-of-type {\n",
              "        vertical-align: middle;\n",
              "    }\n",
              "\n",
              "    .dataframe tbody tr th {\n",
              "        vertical-align: top;\n",
              "    }\n",
              "\n",
              "    .dataframe thead th {\n",
              "        text-align: right;\n",
              "    }\n",
              "</style>\n",
              "<table border=\"1\" class=\"dataframe\">\n",
              "  <thead>\n",
              "    <tr style=\"text-align: right;\">\n",
              "      <th></th>\n",
              "      <th>movieId</th>\n",
              "      <th>tagId</th>\n",
              "      <th>relevance</th>\n",
              "    </tr>\n",
              "  </thead>\n",
              "  <tbody>\n",
              "    <tr>\n",
              "      <th>0</th>\n",
              "      <td>1</td>\n",
              "      <td>1</td>\n",
              "      <td>0.02900</td>\n",
              "    </tr>\n",
              "    <tr>\n",
              "      <th>1</th>\n",
              "      <td>1</td>\n",
              "      <td>2</td>\n",
              "      <td>0.02375</td>\n",
              "    </tr>\n",
              "  </tbody>\n",
              "</table>\n",
              "</div>"
            ],
            "text/plain": [
              "   movieId  tagId  relevance\n",
              "0        1      1    0.02900\n",
              "1        1      2    0.02375"
            ]
          },
          "metadata": {
            "tags": []
          },
          "execution_count": 7
        }
      ]
    },
    {
      "cell_type": "code",
      "metadata": {
        "id": "bPBJJUjTmLWV",
        "outputId": "f718d0f1-4501-43b8-e6d4-cd83d0068544",
        "colab": {
          "base_uri": "https://localhost:8080/",
          "height": 112
        }
      },
      "source": [
        "# This DF contains all the tags and tagId assigned by all the users\n",
        "\n",
        "genome_tags.head(2)"
      ],
      "execution_count": null,
      "outputs": [
        {
          "output_type": "execute_result",
          "data": {
            "text/html": [
              "<div>\n",
              "<style scoped>\n",
              "    .dataframe tbody tr th:only-of-type {\n",
              "        vertical-align: middle;\n",
              "    }\n",
              "\n",
              "    .dataframe tbody tr th {\n",
              "        vertical-align: top;\n",
              "    }\n",
              "\n",
              "    .dataframe thead th {\n",
              "        text-align: right;\n",
              "    }\n",
              "</style>\n",
              "<table border=\"1\" class=\"dataframe\">\n",
              "  <thead>\n",
              "    <tr style=\"text-align: right;\">\n",
              "      <th></th>\n",
              "      <th>tagId</th>\n",
              "      <th>tag</th>\n",
              "    </tr>\n",
              "  </thead>\n",
              "  <tbody>\n",
              "    <tr>\n",
              "      <th>0</th>\n",
              "      <td>1</td>\n",
              "      <td>007</td>\n",
              "    </tr>\n",
              "    <tr>\n",
              "      <th>1</th>\n",
              "      <td>2</td>\n",
              "      <td>007 (series)</td>\n",
              "    </tr>\n",
              "  </tbody>\n",
              "</table>\n",
              "</div>"
            ],
            "text/plain": [
              "   tagId           tag\n",
              "0      1           007\n",
              "1      2  007 (series)"
            ]
          },
          "metadata": {
            "tags": []
          },
          "execution_count": 8
        }
      ]
    },
    {
      "cell_type": "code",
      "metadata": {
        "id": "T7dRsHQkl_Lt",
        "outputId": "8a6a8cc5-718e-4948-e7ff-3f06eba0e823",
        "colab": {
          "base_uri": "https://localhost:8080/",
          "height": 112
        }
      },
      "source": [
        "# This DF contains data for external links for the movie\n",
        "# This is not so useful to use right now. \n",
        "# However we can use these to gather more data per movie incase one choose to \n",
        "# research more on it.\n",
        "# get more data:\n",
        "# From movie lens: https://movielens.org/movies/<movieId>\n",
        "# from Imdb: https://www.imdb.com/title/tt<imdbId>\n",
        "# from tmdb: https://www.themoviedb.org/movie/<tmdbId>\n",
        "\n",
        "links.head(2)"
      ],
      "execution_count": null,
      "outputs": [
        {
          "output_type": "execute_result",
          "data": {
            "text/html": [
              "<div>\n",
              "<style scoped>\n",
              "    .dataframe tbody tr th:only-of-type {\n",
              "        vertical-align: middle;\n",
              "    }\n",
              "\n",
              "    .dataframe tbody tr th {\n",
              "        vertical-align: top;\n",
              "    }\n",
              "\n",
              "    .dataframe thead th {\n",
              "        text-align: right;\n",
              "    }\n",
              "</style>\n",
              "<table border=\"1\" class=\"dataframe\">\n",
              "  <thead>\n",
              "    <tr style=\"text-align: right;\">\n",
              "      <th></th>\n",
              "      <th>movieId</th>\n",
              "      <th>imdbId</th>\n",
              "      <th>tmdbId</th>\n",
              "    </tr>\n",
              "  </thead>\n",
              "  <tbody>\n",
              "    <tr>\n",
              "      <th>0</th>\n",
              "      <td>1</td>\n",
              "      <td>114709</td>\n",
              "      <td>862.0</td>\n",
              "    </tr>\n",
              "    <tr>\n",
              "      <th>1</th>\n",
              "      <td>2</td>\n",
              "      <td>113497</td>\n",
              "      <td>8844.0</td>\n",
              "    </tr>\n",
              "  </tbody>\n",
              "</table>\n",
              "</div>"
            ],
            "text/plain": [
              "   movieId  imdbId  tmdbId\n",
              "0        1  114709   862.0\n",
              "1        2  113497  8844.0"
            ]
          },
          "metadata": {
            "tags": []
          },
          "execution_count": 9
        }
      ]
    },
    {
      "cell_type": "markdown",
      "metadata": {
        "id": "Uu74cXmarFIi"
      },
      "source": [
        "## Prep Data\n",
        "\n",
        "As you can observe the data is fairly divided and an individual DF is not so meaningful by itself.\n",
        "We will try to get all the important features under one roof."
      ]
    },
    {
      "cell_type": "code",
      "metadata": {
        "id": "Ek0DTsoZrDyq"
      },
      "source": [
        "# Taking associated tags with only moderate relevance\n",
        "# You can change and try with other values such as 0 and 0.5\n",
        "THRESH_RELAVANCE = 0.3"
      ],
      "execution_count": null,
      "outputs": []
    },
    {
      "cell_type": "code",
      "metadata": {
        "id": "ec-DDhFmYVAW",
        "outputId": "6b7a28fa-c48c-44aa-e5ec-d55e9c815f34",
        "colab": {
          "base_uri": "https://localhost:8080/",
          "height": 112
        }
      },
      "source": [
        "movie_tags = genome_scores[genome_scores.relevance>THRESH_RELAVANCE][['movieId','tagId']] # we do not need the relevance further\n",
        "movie_tags.head(2)"
      ],
      "execution_count": null,
      "outputs": [
        {
          "output_type": "execute_result",
          "data": {
            "text/html": [
              "<div>\n",
              "<style scoped>\n",
              "    .dataframe tbody tr th:only-of-type {\n",
              "        vertical-align: middle;\n",
              "    }\n",
              "\n",
              "    .dataframe tbody tr th {\n",
              "        vertical-align: top;\n",
              "    }\n",
              "\n",
              "    .dataframe thead th {\n",
              "        text-align: right;\n",
              "    }\n",
              "</style>\n",
              "<table border=\"1\" class=\"dataframe\">\n",
              "  <thead>\n",
              "    <tr style=\"text-align: right;\">\n",
              "      <th></th>\n",
              "      <th>movieId</th>\n",
              "      <th>tagId</th>\n",
              "    </tr>\n",
              "  </thead>\n",
              "  <tbody>\n",
              "    <tr>\n",
              "      <th>10</th>\n",
              "      <td>1</td>\n",
              "      <td>11</td>\n",
              "    </tr>\n",
              "    <tr>\n",
              "      <th>18</th>\n",
              "      <td>1</td>\n",
              "      <td>19</td>\n",
              "    </tr>\n",
              "  </tbody>\n",
              "</table>\n",
              "</div>"
            ],
            "text/plain": [
              "    movieId  tagId\n",
              "10        1     11\n",
              "18        1     19"
            ]
          },
          "metadata": {
            "tags": []
          },
          "execution_count": 11
        }
      ]
    },
    {
      "cell_type": "markdown",
      "metadata": {
        "id": "Spk1ODUot7tM"
      },
      "source": [
        "#### Let's Try to relate the data across the DF with just one movie id"
      ]
    },
    {
      "cell_type": "code",
      "metadata": {
        "id": "XYQ7s_snuaoW"
      },
      "source": [
        "# Set you movieId here and run the following cells\n",
        "MID = 1"
      ],
      "execution_count": null,
      "outputs": []
    },
    {
      "cell_type": "code",
      "metadata": {
        "id": "qHYkjFcEtwA_",
        "outputId": "c3f19e46-e8cc-4ec6-a907-e4e74d8a2297",
        "colab": {
          "base_uri": "https://localhost:8080/",
          "height": 81
        }
      },
      "source": [
        "# what is the movie name and genres for the movie id?\n",
        "movies[movies.movieId == MID]"
      ],
      "execution_count": null,
      "outputs": [
        {
          "output_type": "execute_result",
          "data": {
            "text/html": [
              "<div>\n",
              "<style scoped>\n",
              "    .dataframe tbody tr th:only-of-type {\n",
              "        vertical-align: middle;\n",
              "    }\n",
              "\n",
              "    .dataframe tbody tr th {\n",
              "        vertical-align: top;\n",
              "    }\n",
              "\n",
              "    .dataframe thead th {\n",
              "        text-align: right;\n",
              "    }\n",
              "</style>\n",
              "<table border=\"1\" class=\"dataframe\">\n",
              "  <thead>\n",
              "    <tr style=\"text-align: right;\">\n",
              "      <th></th>\n",
              "      <th>movieId</th>\n",
              "      <th>title</th>\n",
              "      <th>genres</th>\n",
              "    </tr>\n",
              "  </thead>\n",
              "  <tbody>\n",
              "    <tr>\n",
              "      <th>0</th>\n",
              "      <td>1</td>\n",
              "      <td>Toy Story (1995)</td>\n",
              "      <td>Adventure|Animation|Children|Comedy|Fantasy</td>\n",
              "    </tr>\n",
              "  </tbody>\n",
              "</table>\n",
              "</div>"
            ],
            "text/plain": [
              "   movieId             title                                       genres\n",
              "0        1  Toy Story (1995)  Adventure|Animation|Children|Comedy|Fantasy"
            ]
          },
          "metadata": {
            "tags": []
          },
          "execution_count": 13
        }
      ]
    },
    {
      "cell_type": "code",
      "metadata": {
        "id": "vrYnveHTuGF_",
        "outputId": "06e470dc-758a-4324-f3e8-da94deb803b7",
        "colab": {
          "base_uri": "https://localhost:8080/",
          "height": 424
        }
      },
      "source": [
        "# What are the tags given by the users to this movie?\n",
        "# joining textual names genome_tags with movie_tags so to get a context\n",
        "\n",
        "movie_tags[movie_tags.movieId == MID].merge(genome_tags,on='tagId')"
      ],
      "execution_count": null,
      "outputs": [
        {
          "output_type": "execute_result",
          "data": {
            "text/html": [
              "<div>\n",
              "<style scoped>\n",
              "    .dataframe tbody tr th:only-of-type {\n",
              "        vertical-align: middle;\n",
              "    }\n",
              "\n",
              "    .dataframe tbody tr th {\n",
              "        vertical-align: top;\n",
              "    }\n",
              "\n",
              "    .dataframe thead th {\n",
              "        text-align: right;\n",
              "    }\n",
              "</style>\n",
              "<table border=\"1\" class=\"dataframe\">\n",
              "  <thead>\n",
              "    <tr style=\"text-align: right;\">\n",
              "      <th></th>\n",
              "      <th>movieId</th>\n",
              "      <th>tagId</th>\n",
              "      <th>tag</th>\n",
              "    </tr>\n",
              "  </thead>\n",
              "  <tbody>\n",
              "    <tr>\n",
              "      <th>0</th>\n",
              "      <td>1</td>\n",
              "      <td>11</td>\n",
              "      <td>3d</td>\n",
              "    </tr>\n",
              "    <tr>\n",
              "      <th>1</th>\n",
              "      <td>1</td>\n",
              "      <td>19</td>\n",
              "      <td>action</td>\n",
              "    </tr>\n",
              "    <tr>\n",
              "      <th>2</th>\n",
              "      <td>1</td>\n",
              "      <td>21</td>\n",
              "      <td>adaptation</td>\n",
              "    </tr>\n",
              "    <tr>\n",
              "      <th>3</th>\n",
              "      <td>1</td>\n",
              "      <td>22</td>\n",
              "      <td>adapted from:book</td>\n",
              "    </tr>\n",
              "    <tr>\n",
              "      <th>4</th>\n",
              "      <td>1</td>\n",
              "      <td>29</td>\n",
              "      <td>adventure</td>\n",
              "    </tr>\n",
              "    <tr>\n",
              "      <th>...</th>\n",
              "      <td>...</td>\n",
              "      <td>...</td>\n",
              "      <td>...</td>\n",
              "    </tr>\n",
              "    <tr>\n",
              "      <th>181</th>\n",
              "      <td>1</td>\n",
              "      <td>1092</td>\n",
              "      <td>visually stunning</td>\n",
              "    </tr>\n",
              "    <tr>\n",
              "      <th>182</th>\n",
              "      <td>1</td>\n",
              "      <td>1093</td>\n",
              "      <td>visuals</td>\n",
              "    </tr>\n",
              "    <tr>\n",
              "      <th>183</th>\n",
              "      <td>1</td>\n",
              "      <td>1104</td>\n",
              "      <td>weird</td>\n",
              "    </tr>\n",
              "    <tr>\n",
              "      <th>184</th>\n",
              "      <td>1</td>\n",
              "      <td>1108</td>\n",
              "      <td>whimsical</td>\n",
              "    </tr>\n",
              "    <tr>\n",
              "      <th>185</th>\n",
              "      <td>1</td>\n",
              "      <td>1114</td>\n",
              "      <td>witty</td>\n",
              "    </tr>\n",
              "  </tbody>\n",
              "</table>\n",
              "<p>186 rows × 3 columns</p>\n",
              "</div>"
            ],
            "text/plain": [
              "     movieId  tagId                tag\n",
              "0          1     11                 3d\n",
              "1          1     19             action\n",
              "2          1     21         adaptation\n",
              "3          1     22  adapted from:book\n",
              "4          1     29          adventure\n",
              "..       ...    ...                ...\n",
              "181        1   1092  visually stunning\n",
              "182        1   1093            visuals\n",
              "183        1   1104              weird\n",
              "184        1   1108          whimsical\n",
              "185        1   1114              witty\n",
              "\n",
              "[186 rows x 3 columns]"
            ]
          },
          "metadata": {
            "tags": []
          },
          "execution_count": 14
        }
      ]
    },
    {
      "cell_type": "code",
      "metadata": {
        "id": "a-nwT-DQu1Sj",
        "outputId": "22e40415-e063-456f-f7bc-5e5ec7fb43e5",
        "colab": {
          "base_uri": "https://localhost:8080/",
          "height": 334
        }
      },
      "source": [
        "import matplotlib.pyplot as plt\n",
        "\n",
        "# Want to get ratings for this movie or the rating's distribution?\n",
        "dist = ratings[ratings.movieId == MID].rating.value_counts()\n",
        "dist = dist.reset_index()\n",
        "plt.figure(figsize=(8,5))\n",
        "plt.bar(dist['index'],dist.rating)\n",
        "plt.xlabel('Ratings')\n",
        "plt.ylabel('Count')\n",
        "plt.show()"
      ],
      "execution_count": null,
      "outputs": [
        {
          "output_type": "display_data",
          "data": {
            "image/png": "[encoded data removed]",
            "text/plain": [
              "<Figure size 576x360 with 1 Axes>"
            ]
          },
          "metadata": {
            "tags": [],
            "needs_background": "light"
          }
        }
      ]
    },
    {
      "cell_type": "markdown",
      "metadata": {
        "id": "o9xYfF2FeK6S"
      },
      "source": [
        "## Let's Start with Merging all the data to creating something meaningful"
      ]
    },
    {
      "cell_type": "code",
      "metadata": {
        "id": "3qFgWjRjZXAO"
      },
      "source": [
        "movie_tags = pd.merge(movie_tags,genome_tags,on='tagId',how='left')[['movieId','tagId']]\n",
        "movie_tags['tagId'] = movie_tags.tagId.astype(str)"
      ],
      "execution_count": null,
      "outputs": []
    },
    {
      "cell_type": "code",
      "metadata": {
        "id": "VpHzmkReZdvc"
      },
      "source": [
        "# This function will help us to gather all the tags associated with a movie under one roof as a string\n",
        "# It will be applied as an aggregate function\n",
        "def _concatenate_tags_of_movie(tags):\n",
        "  tags_as_str = ' '.join(set(tags))\n",
        "  return tags_as_str"
      ],
      "execution_count": null,
      "outputs": []
    },
    {
      "cell_type": "code",
      "metadata": {
        "id": "Q4sqh9-WkPeh"
      },
      "source": [
        "movie_all_tags = movie_tags.groupby('movieId')['tagId'].agg(_concatenate_tags_of_movie)       # Concating all the tags into one\n",
        "movie_all_tags.name = 'movie_tags'                                                            # Renaming the column\n",
        "movie_all_tags = movie_all_tags.reset_index()"
      ],
      "execution_count": null,
      "outputs": []
    },
    {
      "cell_type": "code",
      "metadata": {
        "id": "wzh3XvMFlhFS",
        "outputId": "1d18ee2d-8cca-451f-8978-f15051188017",
        "colab": {
          "base_uri": "https://localhost:8080/",
          "height": 52
        }
      },
      "source": [
        "# Let's have a look for our MID\n",
        "movie_all_tags[movie_all_tags.movieId==MID]['movie_tags']"
      ],
      "execution_count": null,
      "outputs": [
        {
          "output_type": "execute_result",
          "data": {
            "text/plain": [
              "0    897 1090 990 1104 230 220 94 113 63 748 454 36...\n",
              "Name: movie_tags, dtype: object"
            ]
          },
          "metadata": {
            "tags": []
          },
          "execution_count": 19
        }
      ]
    },
    {
      "cell_type": "code",
      "metadata": {
        "id": "c1fSf3CumpFl",
        "outputId": "b279f4ac-39f9-49a1-e023-6ed39132f8de",
        "colab": {
          "base_uri": "https://localhost:8080/",
          "height": 206
        }
      },
      "source": [
        "# Let's take some data from ratings df. \n",
        "# Since we can't take all the ratings, we can take mean, median,mode and size for a movie rating\n",
        "\n",
        "avg_ratings = ratings.groupby('movieId')['rating'].agg(['mean','median',pd.Series.mode,'size'])\n",
        "avg_ratings.columns = ['ratings_mean','ratings_median','ratings_mode','num_ratings']\n",
        "avg_ratings.reset_index(inplace=True)\n",
        "avg_ratings.head()"
      ],
      "execution_count": null,
      "outputs": [
        {
          "output_type": "execute_result",
          "data": {
            "text/html": [
              "<div>\n",
              "<style scoped>\n",
              "    .dataframe tbody tr th:only-of-type {\n",
              "        vertical-align: middle;\n",
              "    }\n",
              "\n",
              "    .dataframe tbody tr th {\n",
              "        vertical-align: top;\n",
              "    }\n",
              "\n",
              "    .dataframe thead th {\n",
              "        text-align: right;\n",
              "    }\n",
              "</style>\n",
              "<table border=\"1\" class=\"dataframe\">\n",
              "  <thead>\n",
              "    <tr style=\"text-align: right;\">\n",
              "      <th></th>\n",
              "      <th>movieId</th>\n",
              "      <th>ratings_mean</th>\n",
              "      <th>ratings_median</th>\n",
              "      <th>ratings_mode</th>\n",
              "      <th>num_ratings</th>\n",
              "    </tr>\n",
              "  </thead>\n",
              "  <tbody>\n",
              "    <tr>\n",
              "      <th>0</th>\n",
              "      <td>1</td>\n",
              "      <td>3.886649</td>\n",
              "      <td>4.0</td>\n",
              "      <td>4</td>\n",
              "      <td>68469</td>\n",
              "    </tr>\n",
              "    <tr>\n",
              "      <th>1</th>\n",
              "      <td>2</td>\n",
              "      <td>3.246583</td>\n",
              "      <td>3.0</td>\n",
              "      <td>3</td>\n",
              "      <td>27143</td>\n",
              "    </tr>\n",
              "    <tr>\n",
              "      <th>2</th>\n",
              "      <td>3</td>\n",
              "      <td>3.173981</td>\n",
              "      <td>3.0</td>\n",
              "      <td>3</td>\n",
              "      <td>15585</td>\n",
              "    </tr>\n",
              "    <tr>\n",
              "      <th>3</th>\n",
              "      <td>4</td>\n",
              "      <td>2.874540</td>\n",
              "      <td>3.0</td>\n",
              "      <td>3</td>\n",
              "      <td>2989</td>\n",
              "    </tr>\n",
              "    <tr>\n",
              "      <th>4</th>\n",
              "      <td>5</td>\n",
              "      <td>3.077291</td>\n",
              "      <td>3.0</td>\n",
              "      <td>3</td>\n",
              "      <td>15474</td>\n",
              "    </tr>\n",
              "  </tbody>\n",
              "</table>\n",
              "</div>"
            ],
            "text/plain": [
              "   movieId  ratings_mean  ratings_median ratings_mode  num_ratings\n",
              "0        1      3.886649             4.0            4        68469\n",
              "1        2      3.246583             3.0            3        27143\n",
              "2        3      3.173981             3.0            3        15585\n",
              "3        4      2.874540             3.0            3         2989\n",
              "4        5      3.077291             3.0            3        15474"
            ]
          },
          "metadata": {
            "tags": []
          },
          "execution_count": 20
        }
      ]
    },
    {
      "cell_type": "code",
      "metadata": {
        "id": "ck9cv8xcoFX5",
        "outputId": "9c379ae3-a90c-4d3f-829b-2e2fc7566af8",
        "colab": {
          "base_uri": "https://localhost:8080/",
          "height": 112
        }
      },
      "source": [
        "# Adding the rating statistics and concatenated tags we calculated with movies DF\n",
        "\n",
        "movies_with_ratings = pd.merge(movies,avg_ratings,on='movieId',how='left')      # Movies + Rating Stats = Movie_with_Ratings\n",
        "data = pd.merge(movies_with_ratings,movie_all_tags,on='movieId',how='left')     # Movies_with_Ratings + All_Tags = Data\n",
        "data.head(2)"
      ],
      "execution_count": null,
      "outputs": [
        {
          "output_type": "execute_result",
          "data": {
            "text/html": [
              "<div>\n",
              "<style scoped>\n",
              "    .dataframe tbody tr th:only-of-type {\n",
              "        vertical-align: middle;\n",
              "    }\n",
              "\n",
              "    .dataframe tbody tr th {\n",
              "        vertical-align: top;\n",
              "    }\n",
              "\n",
              "    .dataframe thead th {\n",
              "        text-align: right;\n",
              "    }\n",
              "</style>\n",
              "<table border=\"1\" class=\"dataframe\">\n",
              "  <thead>\n",
              "    <tr style=\"text-align: right;\">\n",
              "      <th></th>\n",
              "      <th>movieId</th>\n",
              "      <th>title</th>\n",
              "      <th>genres</th>\n",
              "      <th>ratings_mean</th>\n",
              "      <th>ratings_median</th>\n",
              "      <th>ratings_mode</th>\n",
              "      <th>num_ratings</th>\n",
              "      <th>movie_tags</th>\n",
              "    </tr>\n",
              "  </thead>\n",
              "  <tbody>\n",
              "    <tr>\n",
              "      <th>0</th>\n",
              "      <td>1</td>\n",
              "      <td>Toy Story (1995)</td>\n",
              "      <td>Adventure|Animation|Children|Comedy|Fantasy</td>\n",
              "      <td>3.886649</td>\n",
              "      <td>4.0</td>\n",
              "      <td>4</td>\n",
              "      <td>68469.0</td>\n",
              "      <td>897 1090 990 1104 230 220 94 113 63 748 454 36...</td>\n",
              "    </tr>\n",
              "    <tr>\n",
              "      <th>1</th>\n",
              "      <td>2</td>\n",
              "      <td>Jumanji (1995)</td>\n",
              "      <td>Adventure|Children|Fantasy</td>\n",
              "      <td>3.246583</td>\n",
              "      <td>3.0</td>\n",
              "      <td>3</td>\n",
              "      <td>27143.0</td>\n",
              "      <td>1090 1104 230 604 220 113 953 454 378 742 266 ...</td>\n",
              "    </tr>\n",
              "  </tbody>\n",
              "</table>\n",
              "</div>"
            ],
            "text/plain": [
              "   movieId  ...                                         movie_tags\n",
              "0        1  ...  897 1090 990 1104 230 220 94 113 63 748 454 36...\n",
              "1        2  ...  1090 1104 230 604 220 113 953 454 378 742 266 ...\n",
              "\n",
              "[2 rows x 8 columns]"
            ]
          },
          "metadata": {
            "tags": []
          },
          "execution_count": 21
        }
      ]
    },
    {
      "cell_type": "code",
      "metadata": {
        "id": "4Rjiim_Ff-68",
        "outputId": "a433d581-ae6c-4036-a1ca-0aa976ca90cb",
        "colab": {
          "base_uri": "https://localhost:8080/",
          "height": 278
        }
      },
      "source": [
        "# Around 13000 movies have tags associated with them.\n",
        "data.info()"
      ],
      "execution_count": null,
      "outputs": [
        {
          "output_type": "stream",
          "text": [
            "<class 'pandas.core.frame.DataFrame'>\n",
            "Int64Index: 58098 entries, 0 to 58097\n",
            "Data columns (total 8 columns):\n",
            " #   Column          Non-Null Count  Dtype  \n",
            "---  ------          --------------  -----  \n",
            " 0   movieId         58098 non-null  int64  \n",
            " 1   title           58098 non-null  object \n",
            " 2   genres          58098 non-null  object \n",
            " 3   ratings_mean    53889 non-null  float64\n",
            " 4   ratings_median  53889 non-null  float64\n",
            " 5   ratings_mode    53889 non-null  object \n",
            " 6   num_ratings     53889 non-null  float64\n",
            " 7   movie_tags      13176 non-null  object \n",
            "dtypes: float64(3), int64(1), object(4)\n",
            "memory usage: 4.0+ MB\n"
          ],
          "name": "stdout"
        }
      ]
    },
    {
      "cell_type": "code",
      "metadata": {
        "id": "Xzov40ZMo3oy"
      },
      "source": [
        "# removing movies having no tags\n",
        "tagged_data = data[~data.movie_tags.isnull()].reset_index(drop=True)"
      ],
      "execution_count": null,
      "outputs": []
    },
    {
      "cell_type": "code",
      "metadata": {
        "id": "OZNmoWH-ssxU",
        "outputId": "88bc5e41-622f-4ead-c19a-63897ddf83e6",
        "colab": {
          "base_uri": "https://localhost:8080/",
          "height": 278
        }
      },
      "source": [
        "tagged_data.info()"
      ],
      "execution_count": null,
      "outputs": [
        {
          "output_type": "stream",
          "text": [
            "<class 'pandas.core.frame.DataFrame'>\n",
            "RangeIndex: 13176 entries, 0 to 13175\n",
            "Data columns (total 8 columns):\n",
            " #   Column          Non-Null Count  Dtype  \n",
            "---  ------          --------------  -----  \n",
            " 0   movieId         13176 non-null  int64  \n",
            " 1   title           13176 non-null  object \n",
            " 2   genres          13176 non-null  object \n",
            " 3   ratings_mean    13176 non-null  float64\n",
            " 4   ratings_median  13176 non-null  float64\n",
            " 5   ratings_mode    13176 non-null  object \n",
            " 6   num_ratings     13176 non-null  float64\n",
            " 7   movie_tags      13176 non-null  object \n",
            "dtypes: float64(3), int64(1), object(4)\n",
            "memory usage: 823.6+ KB\n"
          ],
          "name": "stdout"
        }
      ]
    },
    {
      "cell_type": "markdown",
      "metadata": {
        "id": "Il3UEhe4oVUO"
      },
      "source": [
        "## Encoding Data with TD-IDF"
      ]
    },
    {
      "cell_type": "code",
      "metadata": {
        "id": "SQVda3IAszwz"
      },
      "source": [
        "#                          TF IDF                                    #\n",
        "# To understand this one, we can split this into two: TF & IDF.      #\n",
        "# TF as the name suggests is the frequency of a term in a document.  #\n",
        "# This term alone cannot be so good since generally stop words like: #\n",
        "# 'is', 'the', 'and' etc.. are mostly used. This is taken care       #\n",
        "# by the IDF. This part helps to observe if the term is special to   #\n",
        "# just on document or all the documents.                             #\n",
        "\n",
        "tf_idf = TfidfVectorizer()"
      ],
      "execution_count": null,
      "outputs": []
    },
    {
      "cell_type": "code",
      "metadata": {
        "id": "BhaXAoI8dxGH"
      },
      "source": [
        "movies_encoded = tf_idf.fit_transform(tagged_data.movie_tags)"
      ],
      "execution_count": null,
      "outputs": []
    },
    {
      "cell_type": "code",
      "metadata": {
        "id": "5csPh1cpX4qx",
        "outputId": "2540cdf4-78bb-4916-bbf1-33bb4112f08b",
        "colab": {
          "base_uri": "https://localhost:8080/",
          "height": 52
        }
      },
      "source": [
        "# Checking the type of the encoded movies and shape\n",
        "# Shape: no. of movies x no. of tags\n",
        "\n",
        "print(type(movies_encoded))\n",
        "print(movies_encoded.shape)"
      ],
      "execution_count": null,
      "outputs": [
        {
          "output_type": "stream",
          "text": [
            "<class 'scipy.sparse.csr.csr_matrix'>\n",
            "(13176, 1119)\n"
          ],
          "name": "stdout"
        }
      ]
    },
    {
      "cell_type": "code",
      "metadata": {
        "id": "VzQkbE4-gIXr"
      },
      "source": [
        "# each record in the movies encoded DF is a vector\n",
        "# and to get similarity between two vectors we can use \n",
        "# various functions such as cosine similarity\n",
        "# and Distance \n",
        "\n",
        "m2m = cosine_similarity(movies_encoded)"
      ],
      "execution_count": null,
      "outputs": []
    },
    {
      "cell_type": "code",
      "metadata": {
        "id": "3Hc3uq1vguH2"
      },
      "source": [
        "# m2m is a DF of shape: num_movies x num_movies\n",
        "# It's like a look up for similarity between two movies\n",
        "m2m_df = pd.DataFrame(m2m)"
      ],
      "execution_count": null,
      "outputs": []
    },
    {
      "cell_type": "code",
      "metadata": {
        "id": "ZVocO3_gnQ31"
      },
      "source": [
        "idx_to_movie = tagged_data['movieId']"
      ],
      "execution_count": null,
      "outputs": []
    },
    {
      "cell_type": "code",
      "metadata": {
        "id": "3w8DnosvcG2r",
        "outputId": "4b551857-b51b-4026-b32b-c766fe7cb911",
        "colab": {
          "base_uri": "https://localhost:8080/",
          "height": 34
        }
      },
      "source": [
        "m2m_df.shape"
      ],
      "execution_count": null,
      "outputs": [
        {
          "output_type": "execute_result",
          "data": {
            "text/plain": [
              "(13176, 13176)"
            ]
          },
          "metadata": {
            "tags": []
          },
          "execution_count": 31
        }
      ]
    },
    {
      "cell_type": "code",
      "metadata": {
        "id": "xdTVZz60nlQo"
      },
      "source": [
        "# Changing the column names as well as index\n",
        "# of the similarity dataframe with the movie id\n",
        "# for ease in interopretation as well as querying"
      ],
      "execution_count": null,
      "outputs": []
    },
    {
      "cell_type": "code",
      "metadata": {
        "id": "E5ElfUzjn0Ux"
      },
      "source": [
        "m2m_df.columns = [str(idx_to_movie[int(col)]) for col in m2m_df.columns]\n",
        "m2m_df.index = [str(idx_to_movie[int(idx)]) for idx in m2m_df.index ]"
      ],
      "execution_count": null,
      "outputs": []
    },
    {
      "cell_type": "code",
      "metadata": {
        "id": "6qP7_jUksegh",
        "outputId": "33378467-3cad-4054-a691-e838e292d8a6",
        "colab": {
          "base_uri": "https://localhost:8080/",
          "height": 256
        }
      },
      "source": [
        "m2m_df.head()"
      ],
      "execution_count": null,
      "outputs": [
        {
          "output_type": "execute_result",
          "data": {
            "text/html": [
              "<div>\n",
              "<style scoped>\n",
              "    .dataframe tbody tr th:only-of-type {\n",
              "        vertical-align: middle;\n",
              "    }\n",
              "\n",
              "    .dataframe tbody tr th {\n",
              "        vertical-align: top;\n",
              "    }\n",
              "\n",
              "    .dataframe thead th {\n",
              "        text-align: right;\n",
              "    }\n",
              "</style>\n",
              "<table border=\"1\" class=\"dataframe\">\n",
              "  <thead>\n",
              "    <tr style=\"text-align: right;\">\n",
              "      <th></th>\n",
              "      <th>1</th>\n",
              "      <th>2</th>\n",
              "      <th>3</th>\n",
              "      <th>4</th>\n",
              "      <th>5</th>\n",
              "      <th>6</th>\n",
              "      <th>7</th>\n",
              "      <th>8</th>\n",
              "      <th>9</th>\n",
              "      <th>10</th>\n",
              "      <th>11</th>\n",
              "      <th>12</th>\n",
              "      <th>13</th>\n",
              "      <th>14</th>\n",
              "      <th>15</th>\n",
              "      <th>16</th>\n",
              "      <th>17</th>\n",
              "      <th>18</th>\n",
              "      <th>19</th>\n",
              "      <th>20</th>\n",
              "      <th>21</th>\n",
              "      <th>22</th>\n",
              "      <th>23</th>\n",
              "      <th>24</th>\n",
              "      <th>25</th>\n",
              "      <th>26</th>\n",
              "      <th>27</th>\n",
              "      <th>28</th>\n",
              "      <th>29</th>\n",
              "      <th>30</th>\n",
              "      <th>31</th>\n",
              "      <th>32</th>\n",
              "      <th>33</th>\n",
              "      <th>34</th>\n",
              "      <th>35</th>\n",
              "      <th>36</th>\n",
              "      <th>37</th>\n",
              "      <th>38</th>\n",
              "      <th>39</th>\n",
              "      <th>40</th>\n",
              "      <th>...</th>\n",
              "      <th>180231</th>\n",
              "      <th>180265</th>\n",
              "      <th>180297</th>\n",
              "      <th>180497</th>\n",
              "      <th>180985</th>\n",
              "      <th>180987</th>\n",
              "      <th>181315</th>\n",
              "      <th>182715</th>\n",
              "      <th>182823</th>\n",
              "      <th>182825</th>\n",
              "      <th>182913</th>\n",
              "      <th>183011</th>\n",
              "      <th>183197</th>\n",
              "      <th>183227</th>\n",
              "      <th>183421</th>\n",
              "      <th>183589</th>\n",
              "      <th>183611</th>\n",
              "      <th>183619</th>\n",
              "      <th>183635</th>\n",
              "      <th>183701</th>\n",
              "      <th>183833</th>\n",
              "      <th>183897</th>\n",
              "      <th>183909</th>\n",
              "      <th>184015</th>\n",
              "      <th>184017</th>\n",
              "      <th>184239</th>\n",
              "      <th>184253</th>\n",
              "      <th>184257</th>\n",
              "      <th>184471</th>\n",
              "      <th>184931</th>\n",
              "      <th>184987</th>\n",
              "      <th>184997</th>\n",
              "      <th>185029</th>\n",
              "      <th>185135</th>\n",
              "      <th>185425</th>\n",
              "      <th>185435</th>\n",
              "      <th>185585</th>\n",
              "      <th>186587</th>\n",
              "      <th>187593</th>\n",
              "      <th>187595</th>\n",
              "    </tr>\n",
              "  </thead>\n",
              "  <tbody>\n",
              "    <tr>\n",
              "      <th>1</th>\n",
              "      <td>1.000000</td>\n",
              "      <td>0.359995</td>\n",
              "      <td>0.140584</td>\n",
              "      <td>0.163904</td>\n",
              "      <td>0.197146</td>\n",
              "      <td>0.267026</td>\n",
              "      <td>0.240104</td>\n",
              "      <td>0.233925</td>\n",
              "      <td>0.075557</td>\n",
              "      <td>0.223134</td>\n",
              "      <td>0.255872</td>\n",
              "      <td>0.077303</td>\n",
              "      <td>0.325020</td>\n",
              "      <td>0.146705</td>\n",
              "      <td>0.138259</td>\n",
              "      <td>0.218560</td>\n",
              "      <td>0.241278</td>\n",
              "      <td>0.141525</td>\n",
              "      <td>0.126214</td>\n",
              "      <td>0.138313</td>\n",
              "      <td>0.243979</td>\n",
              "      <td>0.124903</td>\n",
              "      <td>0.104990</td>\n",
              "      <td>0.253165</td>\n",
              "      <td>0.245519</td>\n",
              "      <td>0.241386</td>\n",
              "      <td>0.222828</td>\n",
              "      <td>0.163651</td>\n",
              "      <td>0.243605</td>\n",
              "      <td>0.224175</td>\n",
              "      <td>0.180971</td>\n",
              "      <td>0.260051</td>\n",
              "      <td>0.148428</td>\n",
              "      <td>0.462455</td>\n",
              "      <td>0.131284</td>\n",
              "      <td>0.239041</td>\n",
              "      <td>0.264860</td>\n",
              "      <td>0.212915</td>\n",
              "      <td>0.217038</td>\n",
              "      <td>0.120549</td>\n",
              "      <td>...</td>\n",
              "      <td>0.122190</td>\n",
              "      <td>0.265750</td>\n",
              "      <td>0.271408</td>\n",
              "      <td>0.362023</td>\n",
              "      <td>0.408600</td>\n",
              "      <td>0.466373</td>\n",
              "      <td>0.217606</td>\n",
              "      <td>0.269855</td>\n",
              "      <td>0.237003</td>\n",
              "      <td>0.291993</td>\n",
              "      <td>0.313619</td>\n",
              "      <td>0.153509</td>\n",
              "      <td>0.306928</td>\n",
              "      <td>0.298205</td>\n",
              "      <td>0.251435</td>\n",
              "      <td>0.208017</td>\n",
              "      <td>0.223224</td>\n",
              "      <td>0.205067</td>\n",
              "      <td>0.143751</td>\n",
              "      <td>0.298257</td>\n",
              "      <td>0.336257</td>\n",
              "      <td>0.410174</td>\n",
              "      <td>0.269873</td>\n",
              "      <td>0.172440</td>\n",
              "      <td>0.256838</td>\n",
              "      <td>0.141836</td>\n",
              "      <td>0.247896</td>\n",
              "      <td>0.336043</td>\n",
              "      <td>0.174286</td>\n",
              "      <td>0.197509</td>\n",
              "      <td>0.231415</td>\n",
              "      <td>0.323718</td>\n",
              "      <td>0.449159</td>\n",
              "      <td>0.415062</td>\n",
              "      <td>0.115754</td>\n",
              "      <td>0.126076</td>\n",
              "      <td>0.154487</td>\n",
              "      <td>0.238729</td>\n",
              "      <td>0.376306</td>\n",
              "      <td>0.339774</td>\n",
              "    </tr>\n",
              "    <tr>\n",
              "      <th>2</th>\n",
              "      <td>0.359995</td>\n",
              "      <td>1.000000</td>\n",
              "      <td>0.116658</td>\n",
              "      <td>0.123059</td>\n",
              "      <td>0.119013</td>\n",
              "      <td>0.090835</td>\n",
              "      <td>0.215883</td>\n",
              "      <td>0.221415</td>\n",
              "      <td>0.167558</td>\n",
              "      <td>0.221940</td>\n",
              "      <td>0.154437</td>\n",
              "      <td>0.070224</td>\n",
              "      <td>0.162521</td>\n",
              "      <td>0.065507</td>\n",
              "      <td>0.341558</td>\n",
              "      <td>0.068640</td>\n",
              "      <td>0.108855</td>\n",
              "      <td>0.083785</td>\n",
              "      <td>0.123483</td>\n",
              "      <td>0.158100</td>\n",
              "      <td>0.105103</td>\n",
              "      <td>0.114945</td>\n",
              "      <td>0.116282</td>\n",
              "      <td>0.226777</td>\n",
              "      <td>0.058892</td>\n",
              "      <td>0.079961</td>\n",
              "      <td>0.135894</td>\n",
              "      <td>0.065802</td>\n",
              "      <td>0.237803</td>\n",
              "      <td>0.101203</td>\n",
              "      <td>0.191405</td>\n",
              "      <td>0.168100</td>\n",
              "      <td>0.167015</td>\n",
              "      <td>0.283567</td>\n",
              "      <td>0.048585</td>\n",
              "      <td>0.066479</td>\n",
              "      <td>0.257709</td>\n",
              "      <td>0.229147</td>\n",
              "      <td>0.130706</td>\n",
              "      <td>0.076284</td>\n",
              "      <td>...</td>\n",
              "      <td>0.101037</td>\n",
              "      <td>0.088160</td>\n",
              "      <td>0.093305</td>\n",
              "      <td>0.186838</td>\n",
              "      <td>0.287223</td>\n",
              "      <td>0.316128</td>\n",
              "      <td>0.053926</td>\n",
              "      <td>0.107247</td>\n",
              "      <td>0.297740</td>\n",
              "      <td>0.138888</td>\n",
              "      <td>0.251050</td>\n",
              "      <td>0.164583</td>\n",
              "      <td>0.155920</td>\n",
              "      <td>0.152377</td>\n",
              "      <td>0.152986</td>\n",
              "      <td>0.240821</td>\n",
              "      <td>0.111776</td>\n",
              "      <td>0.126296</td>\n",
              "      <td>0.131096</td>\n",
              "      <td>0.244780</td>\n",
              "      <td>0.221224</td>\n",
              "      <td>0.167060</td>\n",
              "      <td>0.189604</td>\n",
              "      <td>0.179779</td>\n",
              "      <td>0.245187</td>\n",
              "      <td>0.117279</td>\n",
              "      <td>0.220382</td>\n",
              "      <td>0.133570</td>\n",
              "      <td>0.245182</td>\n",
              "      <td>0.163609</td>\n",
              "      <td>0.309822</td>\n",
              "      <td>0.231912</td>\n",
              "      <td>0.207119</td>\n",
              "      <td>0.253158</td>\n",
              "      <td>0.151519</td>\n",
              "      <td>0.122537</td>\n",
              "      <td>0.183769</td>\n",
              "      <td>0.244879</td>\n",
              "      <td>0.204680</td>\n",
              "      <td>0.287186</td>\n",
              "    </tr>\n",
              "    <tr>\n",
              "      <th>3</th>\n",
              "      <td>0.140584</td>\n",
              "      <td>0.116658</td>\n",
              "      <td>1.000000</td>\n",
              "      <td>0.192486</td>\n",
              "      <td>0.407801</td>\n",
              "      <td>0.090215</td>\n",
              "      <td>0.246536</td>\n",
              "      <td>0.151995</td>\n",
              "      <td>0.077091</td>\n",
              "      <td>0.142224</td>\n",
              "      <td>0.163142</td>\n",
              "      <td>0.169911</td>\n",
              "      <td>0.076135</td>\n",
              "      <td>0.069782</td>\n",
              "      <td>0.136941</td>\n",
              "      <td>0.082496</td>\n",
              "      <td>0.192240</td>\n",
              "      <td>0.151843</td>\n",
              "      <td>0.253176</td>\n",
              "      <td>0.123903</td>\n",
              "      <td>0.128339</td>\n",
              "      <td>0.113151</td>\n",
              "      <td>0.073628</td>\n",
              "      <td>0.107878</td>\n",
              "      <td>0.079398</td>\n",
              "      <td>0.118713</td>\n",
              "      <td>0.212720</td>\n",
              "      <td>0.060971</td>\n",
              "      <td>0.056157</td>\n",
              "      <td>0.086422</td>\n",
              "      <td>0.197483</td>\n",
              "      <td>0.069226</td>\n",
              "      <td>0.112299</td>\n",
              "      <td>0.144545</td>\n",
              "      <td>0.083814</td>\n",
              "      <td>0.079071</td>\n",
              "      <td>0.156177</td>\n",
              "      <td>0.222574</td>\n",
              "      <td>0.258914</td>\n",
              "      <td>0.079760</td>\n",
              "      <td>...</td>\n",
              "      <td>0.286807</td>\n",
              "      <td>0.143155</td>\n",
              "      <td>0.137168</td>\n",
              "      <td>0.188771</td>\n",
              "      <td>0.232119</td>\n",
              "      <td>0.177072</td>\n",
              "      <td>0.086489</td>\n",
              "      <td>0.119203</td>\n",
              "      <td>0.209014</td>\n",
              "      <td>0.133169</td>\n",
              "      <td>0.170296</td>\n",
              "      <td>0.161700</td>\n",
              "      <td>0.148858</td>\n",
              "      <td>0.150423</td>\n",
              "      <td>0.124191</td>\n",
              "      <td>0.281840</td>\n",
              "      <td>0.213561</td>\n",
              "      <td>0.179050</td>\n",
              "      <td>0.158729</td>\n",
              "      <td>0.151799</td>\n",
              "      <td>0.143071</td>\n",
              "      <td>0.146023</td>\n",
              "      <td>0.223500</td>\n",
              "      <td>0.214345</td>\n",
              "      <td>0.156097</td>\n",
              "      <td>0.073496</td>\n",
              "      <td>0.175295</td>\n",
              "      <td>0.132123</td>\n",
              "      <td>0.117787</td>\n",
              "      <td>0.188265</td>\n",
              "      <td>0.118169</td>\n",
              "      <td>0.198064</td>\n",
              "      <td>0.173156</td>\n",
              "      <td>0.146563</td>\n",
              "      <td>0.090056</td>\n",
              "      <td>0.131115</td>\n",
              "      <td>0.226738</td>\n",
              "      <td>0.147758</td>\n",
              "      <td>0.202069</td>\n",
              "      <td>0.204408</td>\n",
              "    </tr>\n",
              "    <tr>\n",
              "      <th>4</th>\n",
              "      <td>0.163904</td>\n",
              "      <td>0.123059</td>\n",
              "      <td>0.192486</td>\n",
              "      <td>1.000000</td>\n",
              "      <td>0.278716</td>\n",
              "      <td>0.075740</td>\n",
              "      <td>0.334642</td>\n",
              "      <td>0.200485</td>\n",
              "      <td>0.049504</td>\n",
              "      <td>0.079378</td>\n",
              "      <td>0.273124</td>\n",
              "      <td>0.112765</td>\n",
              "      <td>0.100985</td>\n",
              "      <td>0.074070</td>\n",
              "      <td>0.090414</td>\n",
              "      <td>0.119454</td>\n",
              "      <td>0.310576</td>\n",
              "      <td>0.078862</td>\n",
              "      <td>0.086807</td>\n",
              "      <td>0.158112</td>\n",
              "      <td>0.091624</td>\n",
              "      <td>0.113165</td>\n",
              "      <td>0.041694</td>\n",
              "      <td>0.252197</td>\n",
              "      <td>0.176297</td>\n",
              "      <td>0.155626</td>\n",
              "      <td>0.277549</td>\n",
              "      <td>0.193152</td>\n",
              "      <td>0.041497</td>\n",
              "      <td>0.097177</td>\n",
              "      <td>0.218199</td>\n",
              "      <td>0.056417</td>\n",
              "      <td>0.153074</td>\n",
              "      <td>0.246989</td>\n",
              "      <td>0.238186</td>\n",
              "      <td>0.132498</td>\n",
              "      <td>0.186063</td>\n",
              "      <td>0.305475</td>\n",
              "      <td>0.235666</td>\n",
              "      <td>0.161005</td>\n",
              "      <td>...</td>\n",
              "      <td>0.124083</td>\n",
              "      <td>0.133068</td>\n",
              "      <td>0.176698</td>\n",
              "      <td>0.245776</td>\n",
              "      <td>0.248673</td>\n",
              "      <td>0.282589</td>\n",
              "      <td>0.094499</td>\n",
              "      <td>0.173348</td>\n",
              "      <td>0.242662</td>\n",
              "      <td>0.196039</td>\n",
              "      <td>0.156245</td>\n",
              "      <td>0.167674</td>\n",
              "      <td>0.110103</td>\n",
              "      <td>0.125084</td>\n",
              "      <td>0.138888</td>\n",
              "      <td>0.246407</td>\n",
              "      <td>0.120489</td>\n",
              "      <td>0.192530</td>\n",
              "      <td>0.143466</td>\n",
              "      <td>0.151590</td>\n",
              "      <td>0.158835</td>\n",
              "      <td>0.168986</td>\n",
              "      <td>0.187478</td>\n",
              "      <td>0.226364</td>\n",
              "      <td>0.201679</td>\n",
              "      <td>0.156319</td>\n",
              "      <td>0.178827</td>\n",
              "      <td>0.180851</td>\n",
              "      <td>0.095986</td>\n",
              "      <td>0.147981</td>\n",
              "      <td>0.151011</td>\n",
              "      <td>0.195374</td>\n",
              "      <td>0.211978</td>\n",
              "      <td>0.181477</td>\n",
              "      <td>0.214305</td>\n",
              "      <td>0.168674</td>\n",
              "      <td>0.164492</td>\n",
              "      <td>0.162263</td>\n",
              "      <td>0.170269</td>\n",
              "      <td>0.199378</td>\n",
              "    </tr>\n",
              "    <tr>\n",
              "      <th>5</th>\n",
              "      <td>0.197146</td>\n",
              "      <td>0.119013</td>\n",
              "      <td>0.407801</td>\n",
              "      <td>0.278716</td>\n",
              "      <td>1.000000</td>\n",
              "      <td>0.085531</td>\n",
              "      <td>0.309019</td>\n",
              "      <td>0.151632</td>\n",
              "      <td>0.067623</td>\n",
              "      <td>0.109039</td>\n",
              "      <td>0.276500</td>\n",
              "      <td>0.127960</td>\n",
              "      <td>0.136049</td>\n",
              "      <td>0.069193</td>\n",
              "      <td>0.110352</td>\n",
              "      <td>0.034396</td>\n",
              "      <td>0.220650</td>\n",
              "      <td>0.085762</td>\n",
              "      <td>0.196483</td>\n",
              "      <td>0.085862</td>\n",
              "      <td>0.088458</td>\n",
              "      <td>0.105308</td>\n",
              "      <td>0.044470</td>\n",
              "      <td>0.199219</td>\n",
              "      <td>0.118097</td>\n",
              "      <td>0.089117</td>\n",
              "      <td>0.312135</td>\n",
              "      <td>0.069248</td>\n",
              "      <td>0.039600</td>\n",
              "      <td>0.054828</td>\n",
              "      <td>0.215881</td>\n",
              "      <td>0.052130</td>\n",
              "      <td>0.154174</td>\n",
              "      <td>0.215802</td>\n",
              "      <td>0.086136</td>\n",
              "      <td>0.114149</td>\n",
              "      <td>0.123252</td>\n",
              "      <td>0.394167</td>\n",
              "      <td>0.258483</td>\n",
              "      <td>0.085183</td>\n",
              "      <td>...</td>\n",
              "      <td>0.358126</td>\n",
              "      <td>0.148862</td>\n",
              "      <td>0.122464</td>\n",
              "      <td>0.258367</td>\n",
              "      <td>0.237175</td>\n",
              "      <td>0.276559</td>\n",
              "      <td>0.053888</td>\n",
              "      <td>0.110240</td>\n",
              "      <td>0.175088</td>\n",
              "      <td>0.163320</td>\n",
              "      <td>0.189061</td>\n",
              "      <td>0.113999</td>\n",
              "      <td>0.130652</td>\n",
              "      <td>0.158099</td>\n",
              "      <td>0.085488</td>\n",
              "      <td>0.285608</td>\n",
              "      <td>0.138089</td>\n",
              "      <td>0.150792</td>\n",
              "      <td>0.157642</td>\n",
              "      <td>0.137122</td>\n",
              "      <td>0.098463</td>\n",
              "      <td>0.155687</td>\n",
              "      <td>0.154315</td>\n",
              "      <td>0.127573</td>\n",
              "      <td>0.106954</td>\n",
              "      <td>0.084734</td>\n",
              "      <td>0.147741</td>\n",
              "      <td>0.149193</td>\n",
              "      <td>0.078580</td>\n",
              "      <td>0.179661</td>\n",
              "      <td>0.147010</td>\n",
              "      <td>0.264331</td>\n",
              "      <td>0.182410</td>\n",
              "      <td>0.163857</td>\n",
              "      <td>0.117392</td>\n",
              "      <td>0.133729</td>\n",
              "      <td>0.157140</td>\n",
              "      <td>0.148886</td>\n",
              "      <td>0.199741</td>\n",
              "      <td>0.162280</td>\n",
              "    </tr>\n",
              "  </tbody>\n",
              "</table>\n",
              "<p>5 rows × 13176 columns</p>\n",
              "</div>"
            ],
            "text/plain": [
              "          1         2         3  ...    186587    187593    187595\n",
              "1  1.000000  0.359995  0.140584  ...  0.238729  0.376306  0.339774\n",
              "2  0.359995  1.000000  0.116658  ...  0.244879  0.204680  0.287186\n",
              "3  0.140584  0.116658  1.000000  ...  0.147758  0.202069  0.204408\n",
              "4  0.163904  0.123059  0.192486  ...  0.162263  0.170269  0.199378\n",
              "5  0.197146  0.119013  0.407801  ...  0.148886  0.199741  0.162280\n",
              "\n",
              "[5 rows x 13176 columns]"
            ]
          },
          "metadata": {
            "tags": []
          },
          "execution_count": 34
        }
      ]
    },
    {
      "cell_type": "code",
      "metadata": {
        "id": "9ddQLT5IrmUG",
        "outputId": "a19c8efa-7f3b-4069-db40-dfbfc04c7749",
        "colab": {
          "base_uri": "https://localhost:8080/",
          "height": 225
        }
      },
      "source": [
        "m2m_df['1']"
      ],
      "execution_count": null,
      "outputs": [
        {
          "output_type": "execute_result",
          "data": {
            "text/plain": [
              "1         1.000000\n",
              "2         0.359995\n",
              "3         0.140584\n",
              "4         0.163904\n",
              "5         0.197146\n",
              "            ...   \n",
              "185435    0.126076\n",
              "185585    0.154487\n",
              "186587    0.238729\n",
              "187593    0.376306\n",
              "187595    0.339774\n",
              "Name: 1, Length: 13176, dtype: float64"
            ]
          },
          "metadata": {
            "tags": []
          },
          "execution_count": 35
        }
      ]
    },
    {
      "cell_type": "markdown",
      "metadata": {
        "id": "CrsBC7n3oIng"
      },
      "source": [
        "## Let's create a DF for 10 most similar movies"
      ]
    },
    {
      "cell_type": "code",
      "metadata": {
        "id": "je6RPTiEoIK4"
      },
      "source": [
        "# Creating a DF for faster lookup with MovieID and ten columns with name 1 to 10\n",
        "# We can see the movie Id of the similar movie and then find the information from the \n",
        "# tagged_data DF\n",
        "similar_movies = pd.DataFrame(index = m2m_df.index,columns=['movieId','1','2','3','4','5','6','7','8','9','10']) "
      ],
      "execution_count": null,
      "outputs": []
    },
    {
      "cell_type": "code",
      "metadata": {
        "id": "cg2R15F_pBFF"
      },
      "source": [
        "# movieId for better readablity\n",
        "similar_movies['movieId'] = m2m_df.index.astype(int)"
      ],
      "execution_count": null,
      "outputs": []
    },
    {
      "cell_type": "code",
      "metadata": {
        "id": "yNZtBTe9xNJf",
        "outputId": "597e0203-03cf-4647-f8b6-dfe8470d7864",
        "colab": {
          "base_uri": "https://localhost:8080/",
          "height": 143
        }
      },
      "source": [
        "# Initially all the movie column from 1 to 10 are NaN\n",
        "similar_movies.head(3)"
      ],
      "execution_count": null,
      "outputs": [
        {
          "output_type": "execute_result",
          "data": {
            "text/html": [
              "<div>\n",
              "<style scoped>\n",
              "    .dataframe tbody tr th:only-of-type {\n",
              "        vertical-align: middle;\n",
              "    }\n",
              "\n",
              "    .dataframe tbody tr th {\n",
              "        vertical-align: top;\n",
              "    }\n",
              "\n",
              "    .dataframe thead th {\n",
              "        text-align: right;\n",
              "    }\n",
              "</style>\n",
              "<table border=\"1\" class=\"dataframe\">\n",
              "  <thead>\n",
              "    <tr style=\"text-align: right;\">\n",
              "      <th></th>\n",
              "      <th>movieId</th>\n",
              "      <th>1</th>\n",
              "      <th>2</th>\n",
              "      <th>3</th>\n",
              "      <th>4</th>\n",
              "      <th>5</th>\n",
              "      <th>6</th>\n",
              "      <th>7</th>\n",
              "      <th>8</th>\n",
              "      <th>9</th>\n",
              "      <th>10</th>\n",
              "    </tr>\n",
              "  </thead>\n",
              "  <tbody>\n",
              "    <tr>\n",
              "      <th>1</th>\n",
              "      <td>1</td>\n",
              "      <td>NaN</td>\n",
              "      <td>NaN</td>\n",
              "      <td>NaN</td>\n",
              "      <td>NaN</td>\n",
              "      <td>NaN</td>\n",
              "      <td>NaN</td>\n",
              "      <td>NaN</td>\n",
              "      <td>NaN</td>\n",
              "      <td>NaN</td>\n",
              "      <td>NaN</td>\n",
              "    </tr>\n",
              "    <tr>\n",
              "      <th>2</th>\n",
              "      <td>2</td>\n",
              "      <td>NaN</td>\n",
              "      <td>NaN</td>\n",
              "      <td>NaN</td>\n",
              "      <td>NaN</td>\n",
              "      <td>NaN</td>\n",
              "      <td>NaN</td>\n",
              "      <td>NaN</td>\n",
              "      <td>NaN</td>\n",
              "      <td>NaN</td>\n",
              "      <td>NaN</td>\n",
              "    </tr>\n",
              "    <tr>\n",
              "      <th>3</th>\n",
              "      <td>3</td>\n",
              "      <td>NaN</td>\n",
              "      <td>NaN</td>\n",
              "      <td>NaN</td>\n",
              "      <td>NaN</td>\n",
              "      <td>NaN</td>\n",
              "      <td>NaN</td>\n",
              "      <td>NaN</td>\n",
              "      <td>NaN</td>\n",
              "      <td>NaN</td>\n",
              "      <td>NaN</td>\n",
              "    </tr>\n",
              "  </tbody>\n",
              "</table>\n",
              "</div>"
            ],
            "text/plain": [
              "   movieId    1    2    3    4    5    6    7    8    9   10\n",
              "1        1  NaN  NaN  NaN  NaN  NaN  NaN  NaN  NaN  NaN  NaN\n",
              "2        2  NaN  NaN  NaN  NaN  NaN  NaN  NaN  NaN  NaN  NaN\n",
              "3        3  NaN  NaN  NaN  NaN  NaN  NaN  NaN  NaN  NaN  NaN"
            ]
          },
          "metadata": {
            "tags": []
          },
          "execution_count": 38
        }
      ]
    },
    {
      "cell_type": "code",
      "metadata": {
        "id": "iATdv3iMqagO"
      },
      "source": [
        "# this piece of code will take the most similar movies using m2m_df\n",
        "# then take the indexes and discard the similarity \n",
        "# since we are interested in the movie Id for now\n",
        "# we know the rank of those among themselves\n",
        "# and for the similarity we can use m2m_df\n",
        "\n",
        "for x in range(len(similar_movies)):\n",
        "  i = str(similar_movies.iloc[x,0])\n",
        "  sim = m2m_df[i].sort_values(ascending=False)[0:10]\n",
        "  sim = pd.DataFrame(sim)\n",
        "  sim['movieId'] = sim.index\n",
        "  l = list(sim.movieId.values)\n",
        "  #print(l)\n",
        "  for j in range(10):\n",
        "    #print(i,j)\n",
        "    similar_movies.iloc[x,j+1]= int(l[j])"
      ],
      "execution_count": null,
      "outputs": []
    },
    {
      "cell_type": "code",
      "metadata": {
        "id": "Ook6g15jviQZ",
        "outputId": "28cc3474-f5cc-431e-e17a-a0a73378d143",
        "colab": {
          "base_uri": "https://localhost:8080/",
          "height": 143
        }
      },
      "source": [
        "# Now our similar_movies df looks good\n",
        "similar_movies.head(3)"
      ],
      "execution_count": null,
      "outputs": [
        {
          "output_type": "execute_result",
          "data": {
            "text/html": [
              "<div>\n",
              "<style scoped>\n",
              "    .dataframe tbody tr th:only-of-type {\n",
              "        vertical-align: middle;\n",
              "    }\n",
              "\n",
              "    .dataframe tbody tr th {\n",
              "        vertical-align: top;\n",
              "    }\n",
              "\n",
              "    .dataframe thead th {\n",
              "        text-align: right;\n",
              "    }\n",
              "</style>\n",
              "<table border=\"1\" class=\"dataframe\">\n",
              "  <thead>\n",
              "    <tr style=\"text-align: right;\">\n",
              "      <th></th>\n",
              "      <th>movieId</th>\n",
              "      <th>1</th>\n",
              "      <th>2</th>\n",
              "      <th>3</th>\n",
              "      <th>4</th>\n",
              "      <th>5</th>\n",
              "      <th>6</th>\n",
              "      <th>7</th>\n",
              "      <th>8</th>\n",
              "      <th>9</th>\n",
              "      <th>10</th>\n",
              "    </tr>\n",
              "  </thead>\n",
              "  <tbody>\n",
              "    <tr>\n",
              "      <th>1</th>\n",
              "      <td>1</td>\n",
              "      <td>1</td>\n",
              "      <td>3114</td>\n",
              "      <td>4886</td>\n",
              "      <td>78499</td>\n",
              "      <td>2355</td>\n",
              "      <td>6377</td>\n",
              "      <td>68954</td>\n",
              "      <td>8961</td>\n",
              "      <td>50872</td>\n",
              "      <td>4306</td>\n",
              "    </tr>\n",
              "    <tr>\n",
              "      <th>2</th>\n",
              "      <td>2</td>\n",
              "      <td>2</td>\n",
              "      <td>46972</td>\n",
              "      <td>2429</td>\n",
              "      <td>60514</td>\n",
              "      <td>2193</td>\n",
              "      <td>2054</td>\n",
              "      <td>3615</td>\n",
              "      <td>64167</td>\n",
              "      <td>2617</td>\n",
              "      <td>3153</td>\n",
              "    </tr>\n",
              "    <tr>\n",
              "      <th>3</th>\n",
              "      <td>3</td>\n",
              "      <td>3</td>\n",
              "      <td>3450</td>\n",
              "      <td>30825</td>\n",
              "      <td>8969</td>\n",
              "      <td>5309</td>\n",
              "      <td>155743</td>\n",
              "      <td>4534</td>\n",
              "      <td>4621</td>\n",
              "      <td>129428</td>\n",
              "      <td>69253</td>\n",
              "    </tr>\n",
              "  </tbody>\n",
              "</table>\n",
              "</div>"
            ],
            "text/plain": [
              "   movieId  1      2      3      4     5       6      7      8       9     10\n",
              "1        1  1   3114   4886  78499  2355    6377  68954   8961   50872   4306\n",
              "2        2  2  46972   2429  60514  2193    2054   3615  64167    2617   3153\n",
              "3        3  3   3450  30825   8969  5309  155743   4534   4621  129428  69253"
            ]
          },
          "metadata": {
            "tags": []
          },
          "execution_count": 43
        }
      ]
    },
    {
      "cell_type": "code",
      "metadata": {
        "id": "GyTQnPs115-H"
      },
      "source": [
        "# Let's create a function that takes a movieId and gives a small dataframe of the similar movies\n",
        "# using similar_movies df and tagged_data df\n",
        "\n",
        "def recommended_movies(id):\n",
        "  try:\n",
        "    similar_movies_id = similar_movies[similar_movies.movieId==id]\n",
        "    similar_movies_id = pd.DataFrame(similar_movies_id.drop(columns=['movieId'])).transpose()\n",
        "    similar_movies_id.columns = ['movieId']\n",
        "    similar_movies_details = pd.merge(tagged_data,similar_movies_id,on='movieId',how='inner')\n",
        "    return similar_movies_details\n",
        "  except:\n",
        "    return \"Movie did not had any tags and thus can't have recommendations yet\""
      ],
      "execution_count": null,
      "outputs": []
    },
    {
      "cell_type": "code",
      "metadata": {
        "id": "NjmMBsb24N9v",
        "outputId": "d8ca7f3c-8439-4f68-d626-4d2fa722491c",
        "colab": {
          "base_uri": "https://localhost:8080/",
          "height": 363
        }
      },
      "source": [
        "# Lets try for a movieId\n",
        "# uncomment the one to run\n",
        "\n",
        "recommended_movies(589) #Terminator 2\n",
        "#recommended_movies(1) #Toy Story \n",
        "# recommended_movies(185434) #not found"
      ],
      "execution_count": null,
      "outputs": [
        {
          "output_type": "execute_result",
          "data": {
            "text/html": [
              "<div>\n",
              "<style scoped>\n",
              "    .dataframe tbody tr th:only-of-type {\n",
              "        vertical-align: middle;\n",
              "    }\n",
              "\n",
              "    .dataframe tbody tr th {\n",
              "        vertical-align: top;\n",
              "    }\n",
              "\n",
              "    .dataframe thead th {\n",
              "        text-align: right;\n",
              "    }\n",
              "</style>\n",
              "<table border=\"1\" class=\"dataframe\">\n",
              "  <thead>\n",
              "    <tr style=\"text-align: right;\">\n",
              "      <th></th>\n",
              "      <th>movieId</th>\n",
              "      <th>title</th>\n",
              "      <th>genres</th>\n",
              "      <th>ratings_mean</th>\n",
              "      <th>ratings_median</th>\n",
              "      <th>ratings_mode</th>\n",
              "      <th>num_ratings</th>\n",
              "      <th>movie_tags</th>\n",
              "    </tr>\n",
              "  </thead>\n",
              "  <tbody>\n",
              "    <tr>\n",
              "      <th>0</th>\n",
              "      <td>480</td>\n",
              "      <td>Jurassic Park (1993)</td>\n",
              "      <td>Action|Adventure|Sci-Fi|Thriller</td>\n",
              "      <td>3.665034</td>\n",
              "      <td>4.0</td>\n",
              "      <td>4</td>\n",
              "      <td>76451.0</td>\n",
              "      <td>1073 897 883 1090 990 891 311 1104 216 220 108...</td>\n",
              "    </tr>\n",
              "    <tr>\n",
              "      <th>1</th>\n",
              "      <td>541</td>\n",
              "      <td>Blade Runner (1982)</td>\n",
              "      <td>Action|Sci-Fi|Thriller</td>\n",
              "      <td>4.116097</td>\n",
              "      <td>4.0</td>\n",
              "      <td>5</td>\n",
              "      <td>39441.0</td>\n",
              "      <td>1073 897 883 474 1090 1029 344 891 311 1104 77...</td>\n",
              "    </tr>\n",
              "    <tr>\n",
              "      <th>2</th>\n",
              "      <td>589</td>\n",
              "      <td>Terminator 2: Judgment Day (1991)</td>\n",
              "      <td>Action|Sci-Fi</td>\n",
              "      <td>3.941501</td>\n",
              "      <td>4.0</td>\n",
              "      <td>4</td>\n",
              "      <td>64258.0</td>\n",
              "      <td>1073 883 474 1090 1029 891 311 1104 216 220 10...</td>\n",
              "    </tr>\n",
              "    <tr>\n",
              "      <th>3</th>\n",
              "      <td>1200</td>\n",
              "      <td>Aliens (1986)</td>\n",
              "      <td>Action|Adventure|Horror|Sci-Fi</td>\n",
              "      <td>3.994663</td>\n",
              "      <td>4.0</td>\n",
              "      <td>4</td>\n",
              "      <td>34572.0</td>\n",
              "      <td>1073 897 883 474 1090 1029 522 990 344 891 311...</td>\n",
              "    </tr>\n",
              "    <tr>\n",
              "      <th>4</th>\n",
              "      <td>1240</td>\n",
              "      <td>Terminator, The (1984)</td>\n",
              "      <td>Action|Sci-Fi|Thriller</td>\n",
              "      <td>3.891845</td>\n",
              "      <td>4.0</td>\n",
              "      <td>4</td>\n",
              "      <td>42254.0</td>\n",
              "      <td>1073 897 883 474 1090 1029 522 891 311 1104 21...</td>\n",
              "    </tr>\n",
              "    <tr>\n",
              "      <th>5</th>\n",
              "      <td>2571</td>\n",
              "      <td>Matrix, The (1999)</td>\n",
              "      <td>Action|Sci-Fi|Thriller</td>\n",
              "      <td>4.149695</td>\n",
              "      <td>4.5</td>\n",
              "      <td>5</td>\n",
              "      <td>84545.0</td>\n",
              "      <td>1073 897 883 1053 149 1090 1029 990 891 311 11...</td>\n",
              "    </tr>\n",
              "    <tr>\n",
              "      <th>6</th>\n",
              "      <td>2916</td>\n",
              "      <td>Total Recall (1990)</td>\n",
              "      <td>Action|Adventure|Sci-Fi|Thriller</td>\n",
              "      <td>3.599662</td>\n",
              "      <td>4.0</td>\n",
              "      <td>4</td>\n",
              "      <td>24573.0</td>\n",
              "      <td>1073 897 883 1090 891 311 1104 216 9 220 281 1...</td>\n",
              "    </tr>\n",
              "    <tr>\n",
              "      <th>7</th>\n",
              "      <td>3527</td>\n",
              "      <td>Predator (1987)</td>\n",
              "      <td>Action|Sci-Fi|Thriller</td>\n",
              "      <td>3.646651</td>\n",
              "      <td>4.0</td>\n",
              "      <td>4</td>\n",
              "      <td>18186.0</td>\n",
              "      <td>1073 897 883 474 1090 522 990 891 1104 216 9 2...</td>\n",
              "    </tr>\n",
              "    <tr>\n",
              "      <th>8</th>\n",
              "      <td>6537</td>\n",
              "      <td>Terminator 3: Rise of the Machines (2003)</td>\n",
              "      <td>Action|Adventure|Sci-Fi</td>\n",
              "      <td>3.064633</td>\n",
              "      <td>3.0</td>\n",
              "      <td>3</td>\n",
              "      <td>12393.0</td>\n",
              "      <td>1090 220 1084 281 94 913 672 429 364 378 825 2...</td>\n",
              "    </tr>\n",
              "    <tr>\n",
              "      <th>9</th>\n",
              "      <td>111759</td>\n",
              "      <td>Edge of Tomorrow (2014)</td>\n",
              "      <td>Action|Sci-Fi|IMAX</td>\n",
              "      <td>3.938495</td>\n",
              "      <td>4.0</td>\n",
              "      <td>4</td>\n",
              "      <td>11999.0</td>\n",
              "      <td>1073 897 883 1090 1029 990 891 311 1104 216 23...</td>\n",
              "    </tr>\n",
              "  </tbody>\n",
              "</table>\n",
              "</div>"
            ],
            "text/plain": [
              "  movieId  ...                                         movie_tags\n",
              "0     480  ...  1073 897 883 1090 990 891 311 1104 216 220 108...\n",
              "1     541  ...  1073 897 883 474 1090 1029 344 891 311 1104 77...\n",
              "2     589  ...  1073 883 474 1090 1029 891 311 1104 216 220 10...\n",
              "3    1200  ...  1073 897 883 474 1090 1029 522 990 344 891 311...\n",
              "4    1240  ...  1073 897 883 474 1090 1029 522 891 311 1104 21...\n",
              "5    2571  ...  1073 897 883 1053 149 1090 1029 990 891 311 11...\n",
              "6    2916  ...  1073 897 883 1090 891 311 1104 216 9 220 281 1...\n",
              "7    3527  ...  1073 897 883 474 1090 522 990 891 1104 216 9 2...\n",
              "8    6537  ...  1090 220 1084 281 94 913 672 429 364 378 825 2...\n",
              "9  111759  ...  1073 897 883 1090 1029 990 891 311 1104 216 23...\n",
              "\n",
              "[10 rows x 8 columns]"
            ]
          },
          "metadata": {
            "tags": []
          },
          "execution_count": 54
        }
      ]
    },
    {
      "cell_type": "markdown",
      "metadata": {
        "id": "7mB2NXmlIxnt"
      },
      "source": [
        "## Building User Profiles for the recommendation"
      ]
    },
    {
      "cell_type": "code",
      "metadata": {
        "id": "HSyJvotERj26"
      },
      "source": [
        "ratings = pd.read_csv('ml-latest/ratings.csv')"
      ],
      "execution_count": null,
      "outputs": []
    },
    {
      "cell_type": "code",
      "metadata": {
        "id": "QsRPtv4Jtcny",
        "outputId": "5a5885ae-59d9-404e-9f09-e6c2d68f1ba5",
        "colab": {
          "base_uri": "https://localhost:8080/",
          "height": 224
        }
      },
      "source": [
        "# Check out the ratings df \n",
        "# for user id = 1 \n",
        "# what movies that user liked or rated and when\n",
        "\n",
        "ratings_for_1 = ratings[ratings.userId==1]\n",
        "print(\"User rated total {} movies\".format(ratings_for_1.shape[0]))\n",
        "ratings_for_1.head()"
      ],
      "execution_count": null,
      "outputs": [
        {
          "output_type": "stream",
          "text": [
            "User rated total 16 movies\n"
          ],
          "name": "stdout"
        },
        {
          "output_type": "execute_result",
          "data": {
            "text/html": [
              "<div>\n",
              "<style scoped>\n",
              "    .dataframe tbody tr th:only-of-type {\n",
              "        vertical-align: middle;\n",
              "    }\n",
              "\n",
              "    .dataframe tbody tr th {\n",
              "        vertical-align: top;\n",
              "    }\n",
              "\n",
              "    .dataframe thead th {\n",
              "        text-align: right;\n",
              "    }\n",
              "</style>\n",
              "<table border=\"1\" class=\"dataframe\">\n",
              "  <thead>\n",
              "    <tr style=\"text-align: right;\">\n",
              "      <th></th>\n",
              "      <th>userId</th>\n",
              "      <th>movieId</th>\n",
              "      <th>rating</th>\n",
              "      <th>timestamp</th>\n",
              "    </tr>\n",
              "  </thead>\n",
              "  <tbody>\n",
              "    <tr>\n",
              "      <th>0</th>\n",
              "      <td>1</td>\n",
              "      <td>307</td>\n",
              "      <td>3.5</td>\n",
              "      <td>1256677221</td>\n",
              "    </tr>\n",
              "    <tr>\n",
              "      <th>1</th>\n",
              "      <td>1</td>\n",
              "      <td>481</td>\n",
              "      <td>3.5</td>\n",
              "      <td>1256677456</td>\n",
              "    </tr>\n",
              "    <tr>\n",
              "      <th>2</th>\n",
              "      <td>1</td>\n",
              "      <td>1091</td>\n",
              "      <td>1.5</td>\n",
              "      <td>1256677471</td>\n",
              "    </tr>\n",
              "    <tr>\n",
              "      <th>3</th>\n",
              "      <td>1</td>\n",
              "      <td>1257</td>\n",
              "      <td>4.5</td>\n",
              "      <td>1256677460</td>\n",
              "    </tr>\n",
              "    <tr>\n",
              "      <th>4</th>\n",
              "      <td>1</td>\n",
              "      <td>1449</td>\n",
              "      <td>4.5</td>\n",
              "      <td>1256677264</td>\n",
              "    </tr>\n",
              "  </tbody>\n",
              "</table>\n",
              "</div>"
            ],
            "text/plain": [
              "   userId  movieId  rating   timestamp\n",
              "0       1      307     3.5  1256677221\n",
              "1       1      481     3.5  1256677456\n",
              "2       1     1091     1.5  1256677471\n",
              "3       1     1257     4.5  1256677460\n",
              "4       1     1449     4.5  1256677264"
            ]
          },
          "metadata": {
            "tags": []
          },
          "execution_count": 101
        }
      ]
    },
    {
      "cell_type": "code",
      "metadata": {
        "id": "W0kAfVMJRHYU",
        "outputId": "82d9ee97-7e89-4f97-d886-7d713af1edc7",
        "colab": {
          "base_uri": "https://localhost:8080/",
          "height": 206
        }
      },
      "source": [
        "# Getting movie details along with user ratings\n",
        "# Normalizing the rating by dividing it by 5\n",
        "\n",
        "user_data_with_tags = tagged_data.reset_index().merge(ratings_for_1,on='movieId')\n",
        "user_data_with_tags['weight'] = user_data_with_tags['rating']/5.\n",
        "user_data_with_tags.head()"
      ],
      "execution_count": null,
      "outputs": [
        {
          "output_type": "execute_result",
          "data": {
            "text/html": [
              "<div>\n",
              "<style scoped>\n",
              "    .dataframe tbody tr th:only-of-type {\n",
              "        vertical-align: middle;\n",
              "    }\n",
              "\n",
              "    .dataframe tbody tr th {\n",
              "        vertical-align: top;\n",
              "    }\n",
              "\n",
              "    .dataframe thead th {\n",
              "        text-align: right;\n",
              "    }\n",
              "</style>\n",
              "<table border=\"1\" class=\"dataframe\">\n",
              "  <thead>\n",
              "    <tr style=\"text-align: right;\">\n",
              "      <th></th>\n",
              "      <th>index</th>\n",
              "      <th>movieId</th>\n",
              "      <th>title</th>\n",
              "      <th>genres</th>\n",
              "      <th>ratings_mean</th>\n",
              "      <th>ratings_median</th>\n",
              "      <th>ratings_mode</th>\n",
              "      <th>num_ratings</th>\n",
              "      <th>movie_tags</th>\n",
              "      <th>userId</th>\n",
              "      <th>rating</th>\n",
              "      <th>timestamp</th>\n",
              "      <th>weight</th>\n",
              "    </tr>\n",
              "  </thead>\n",
              "  <tbody>\n",
              "    <tr>\n",
              "      <th>0</th>\n",
              "      <td>294</td>\n",
              "      <td>307</td>\n",
              "      <td>Three Colors: Blue (Trois couleurs: Bleu) (1993)</td>\n",
              "      <td>Drama</td>\n",
              "      <td>3.971727</td>\n",
              "      <td>4.0</td>\n",
              "      <td>4</td>\n",
              "      <td>7958.0</td>\n",
              "      <td>1073 897 883 474 1090 411 1104 216 771 846 189...</td>\n",
              "      <td>1</td>\n",
              "      <td>3.5</td>\n",
              "      <td>1256677221</td>\n",
              "      <td>0.7</td>\n",
              "    </tr>\n",
              "    <tr>\n",
              "      <th>1</th>\n",
              "      <td>461</td>\n",
              "      <td>481</td>\n",
              "      <td>Kalifornia (1993)</td>\n",
              "      <td>Drama|Thriller</td>\n",
              "      <td>3.339241</td>\n",
              "      <td>3.0</td>\n",
              "      <td>3</td>\n",
              "      <td>6037.0</td>\n",
              "      <td>1073 897 854 1034 474 731 311 1104 216 846 220...</td>\n",
              "      <td>1</td>\n",
              "      <td>3.5</td>\n",
              "      <td>1256677456</td>\n",
              "      <td>0.7</td>\n",
              "    </tr>\n",
              "    <tr>\n",
              "      <th>2</th>\n",
              "      <td>991</td>\n",
              "      <td>1091</td>\n",
              "      <td>Weekend at Bernie's (1989)</td>\n",
              "      <td>Comedy</td>\n",
              "      <td>2.806207</td>\n",
              "      <td>3.0</td>\n",
              "      <td>3</td>\n",
              "      <td>6138.0</td>\n",
              "      <td>658 1104 230 9 1084 510 879 913 825 742 702 26...</td>\n",
              "      <td>1</td>\n",
              "      <td>1.5</td>\n",
              "      <td>1256677471</td>\n",
              "      <td>0.3</td>\n",
              "    </tr>\n",
              "    <tr>\n",
              "      <th>3</th>\n",
              "      <td>1134</td>\n",
              "      <td>1257</td>\n",
              "      <td>Better Off Dead... (1985)</td>\n",
              "      <td>Comedy|Romance</td>\n",
              "      <td>3.828617</td>\n",
              "      <td>4.0</td>\n",
              "      <td>4</td>\n",
              "      <td>5902.0</td>\n",
              "      <td>1073 1053 1090 770 1104 216 230 846 9 220 1010...</td>\n",
              "      <td>1</td>\n",
              "      <td>4.5</td>\n",
              "      <td>1256677460</td>\n",
              "      <td>0.9</td>\n",
              "    </tr>\n",
              "    <tr>\n",
              "      <th>4</th>\n",
              "      <td>1310</td>\n",
              "      <td>1449</td>\n",
              "      <td>Waiting for Guffman (1996)</td>\n",
              "      <td>Comedy</td>\n",
              "      <td>3.918378</td>\n",
              "      <td>4.0</td>\n",
              "      <td>4</td>\n",
              "      <td>6867.0</td>\n",
              "      <td>1073 897 311 770 1104 230 771 220 879 113 551 ...</td>\n",
              "      <td>1</td>\n",
              "      <td>4.5</td>\n",
              "      <td>1256677264</td>\n",
              "      <td>0.9</td>\n",
              "    </tr>\n",
              "  </tbody>\n",
              "</table>\n",
              "</div>"
            ],
            "text/plain": [
              "   index  movieId  ...   timestamp weight\n",
              "0    294      307  ...  1256677221    0.7\n",
              "1    461      481  ...  1256677456    0.7\n",
              "2    991     1091  ...  1256677471    0.3\n",
              "3   1134     1257  ...  1256677460    0.9\n",
              "4   1310     1449  ...  1256677264    0.9\n",
              "\n",
              "[5 rows x 13 columns]"
            ]
          },
          "metadata": {
            "tags": []
          },
          "execution_count": 103
        }
      ]
    },
    {
      "cell_type": "code",
      "metadata": {
        "id": "fnTGD7KNKx_I",
        "outputId": "f695ee8c-adb2-48cd-87c9-27dada603a36",
        "colab": {
          "base_uri": "https://localhost:8080/",
          "height": 243
        }
      },
      "source": [
        "# This piece of code does the following\n",
        "# remember the encoding we did before\n",
        "# now we got those encoding for the movies our user rated and \n",
        "# got a transpose\n",
        "# thus we have matrix of num_of_tags x num_of_movies_liked\n",
        "\n",
        "movies_encoded[user_data_with_tags['index'].values].toarray().T"
      ],
      "execution_count": null,
      "outputs": [
        {
          "output_type": "execute_result",
          "data": {
            "text/plain": [
              "array([[0.        , 0.        , 0.        , ..., 0.        , 0.        ,\n",
              "        0.        ],\n",
              "       [0.        , 0.        , 0.09046363, ..., 0.07059881, 0.07116106,\n",
              "        0.        ],\n",
              "       [0.        , 0.08706277, 0.        , ..., 0.        , 0.07849974,\n",
              "        0.        ],\n",
              "       ...,\n",
              "       [0.        , 0.        , 0.        , ..., 0.08904106, 0.        ,\n",
              "        0.        ],\n",
              "       [0.        , 0.        , 0.        , ..., 0.0830352 , 0.08369649,\n",
              "        0.        ],\n",
              "       [0.        , 0.06310812, 0.07233568, ..., 0.05645156, 0.05690114,\n",
              "        0.07183768]])"
            ]
          },
          "metadata": {
            "tags": []
          },
          "execution_count": 81
        }
      ]
    },
    {
      "cell_type": "code",
      "metadata": {
        "id": "FBKk_KKCSc7U",
        "outputId": "b5df32f7-0703-452d-a1b3-3743240bc5e7",
        "colab": {
          "base_uri": "https://localhost:8080/",
          "height": 52
        }
      },
      "source": [
        "# Below piece of code \n",
        "# does a dot product between the one we discussed just above and the ratings \n",
        "# provided by the user to those movies\n",
        "# effectivily we have [num_of_tags x num_of_movies_rated] x [num_of_movies_rated x 1]\n",
        "# giving us a vector of num_of_tags x 1 \n",
        "# a value for each tag\n",
        "\n",
        "user_profile = np.dot(movies_encoded[user_data_with_tags.index.values].toarray().T,user_data_with_tags['weight'].values)\n",
        "user_profile"
      ],
      "execution_count": null,
      "outputs": [
        {
          "output_type": "execute_result",
          "data": {
            "text/plain": [
              "array([0.        , 0.26378623, 0.12860259, ..., 0.15035565, 0.        ,\n",
              "       0.27197918])"
            ]
          },
          "metadata": {
            "tags": []
          },
          "execution_count": 104
        }
      ]
    },
    {
      "cell_type": "code",
      "metadata": {
        "id": "RqlwAZkJY-hk"
      },
      "source": [
        "# getting most similar movies to the vector we generated above\n",
        "# we will get the num_of_tagged_movies we have values\n",
        "# a value for each movie we have\n",
        "# sorting them for most similar to least on\n",
        "\n",
        "C = cosine_similarity(np.atleast_2d(user_profile),movies_encoded)\n",
        "R = np.argsort(C)[:,::-1]\n",
        "\n",
        "# getting index of movies such that the user have not rated before \n",
        "# or unknown to him\n",
        "\n",
        "recommendations = [i for i in R[0] if i not in user_data_with_tags['index'].values]"
      ],
      "execution_count": null,
      "outputs": []
    },
    {
      "cell_type": "code",
      "metadata": {
        "id": "1CnLDdJ-bB9u",
        "outputId": "44d96021-d2fb-4898-ee33-f73331d4e7bd",
        "colab": {
          "base_uri": "https://localhost:8080/",
          "height": 363
        }
      },
      "source": [
        "tagged_data.loc[recommendations].head(10)"
      ],
      "execution_count": null,
      "outputs": [
        {
          "output_type": "execute_result",
          "data": {
            "text/html": [
              "<div>\n",
              "<style scoped>\n",
              "    .dataframe tbody tr th:only-of-type {\n",
              "        vertical-align: middle;\n",
              "    }\n",
              "\n",
              "    .dataframe tbody tr th {\n",
              "        vertical-align: top;\n",
              "    }\n",
              "\n",
              "    .dataframe thead th {\n",
              "        text-align: right;\n",
              "    }\n",
              "</style>\n",
              "<table border=\"1\" class=\"dataframe\">\n",
              "  <thead>\n",
              "    <tr style=\"text-align: right;\">\n",
              "      <th></th>\n",
              "      <th>movieId</th>\n",
              "      <th>title</th>\n",
              "      <th>genres</th>\n",
              "      <th>ratings_mean</th>\n",
              "      <th>ratings_median</th>\n",
              "      <th>ratings_mode</th>\n",
              "      <th>num_ratings</th>\n",
              "      <th>movie_tags</th>\n",
              "    </tr>\n",
              "  </thead>\n",
              "  <tbody>\n",
              "    <tr>\n",
              "      <th>13135</th>\n",
              "      <td>180095</td>\n",
              "      <td>Wonder (2017)</td>\n",
              "      <td>Drama</td>\n",
              "      <td>3.860792</td>\n",
              "      <td>4.0</td>\n",
              "      <td>4</td>\n",
              "      <td>783.0</td>\n",
              "      <td>1073 897 149 1104 230 771 220 846 113 865 454 ...</td>\n",
              "    </tr>\n",
              "    <tr>\n",
              "      <th>0</th>\n",
              "      <td>1</td>\n",
              "      <td>Toy Story (1995)</td>\n",
              "      <td>Adventure|Animation|Children|Comedy|Fantasy</td>\n",
              "      <td>3.886649</td>\n",
              "      <td>4.0</td>\n",
              "      <td>4</td>\n",
              "      <td>68469.0</td>\n",
              "      <td>897 1090 990 1104 230 220 94 113 63 748 454 36...</td>\n",
              "    </tr>\n",
              "    <tr>\n",
              "      <th>13106</th>\n",
              "      <td>177765</td>\n",
              "      <td>Coco (2017)</td>\n",
              "      <td>Adventure|Animation|Children</td>\n",
              "      <td>4.061829</td>\n",
              "      <td>4.0</td>\n",
              "      <td>5</td>\n",
              "      <td>2701.0</td>\n",
              "      <td>1073 897 883 474 1090 311 1104 216 230 771 220...</td>\n",
              "    </tr>\n",
              "    <tr>\n",
              "      <th>3869</th>\n",
              "      <td>4306</td>\n",
              "      <td>Shrek (2001)</td>\n",
              "      <td>Adventure|Animation|Children|Comedy|Fantasy|Ro...</td>\n",
              "      <td>3.771879</td>\n",
              "      <td>4.0</td>\n",
              "      <td>4</td>\n",
              "      <td>46826.0</td>\n",
              "      <td>897 883 1090 990 770 1104 230 220 321 94 113 9...</td>\n",
              "    </tr>\n",
              "    <tr>\n",
              "      <th>4406</th>\n",
              "      <td>4886</td>\n",
              "      <td>Monsters, Inc. (2001)</td>\n",
              "      <td>Adventure|Animation|Children|Comedy|Fantasy</td>\n",
              "      <td>3.853349</td>\n",
              "      <td>4.0</td>\n",
              "      <td>4</td>\n",
              "      <td>37112.0</td>\n",
              "      <td>897 883 1090 990 1104 216 230 220 94 113 63 74...</td>\n",
              "    </tr>\n",
              "    <tr>\n",
              "      <th>480</th>\n",
              "      <td>500</td>\n",
              "      <td>Mrs. Doubtfire (1993)</td>\n",
              "      <td>Comedy|Drama</td>\n",
              "      <td>3.392683</td>\n",
              "      <td>3.5</td>\n",
              "      <td>3</td>\n",
              "      <td>38484.0</td>\n",
              "      <td>230 771 220 113 865 364 497 742 266 609 128 92...</td>\n",
              "    </tr>\n",
              "    <tr>\n",
              "      <th>2405</th>\n",
              "      <td>2687</td>\n",
              "      <td>Tarzan (1999)</td>\n",
              "      <td>Adventure|Animation|Children|Drama</td>\n",
              "      <td>3.475385</td>\n",
              "      <td>3.5</td>\n",
              "      <td>4</td>\n",
              "      <td>7475.0</td>\n",
              "      <td>604 220 113 63 454 364 497 844 1062 742 310 26...</td>\n",
              "    </tr>\n",
              "    <tr>\n",
              "      <th>13141</th>\n",
              "      <td>180987</td>\n",
              "      <td>Ferdinand (2017)</td>\n",
              "      <td>Animation|Children|Comedy</td>\n",
              "      <td>3.086806</td>\n",
              "      <td>3.0</td>\n",
              "      <td>3</td>\n",
              "      <td>144.0</td>\n",
              "      <td>1073 1104 230 220 63 748 454 378 872 497 837 8...</td>\n",
              "    </tr>\n",
              "    <tr>\n",
              "      <th>2809</th>\n",
              "      <td>3114</td>\n",
              "      <td>Toy Story 2 (1999)</td>\n",
              "      <td>Adventure|Animation|Children|Comedy|Fantasy</td>\n",
              "      <td>3.809977</td>\n",
              "      <td>4.0</td>\n",
              "      <td>4</td>\n",
              "      <td>29820.0</td>\n",
              "      <td>897 1090 230 220 63 748 454 364 497 844 1062 7...</td>\n",
              "    </tr>\n",
              "    <tr>\n",
              "      <th>350</th>\n",
              "      <td>364</td>\n",
              "      <td>Lion King, The (1994)</td>\n",
              "      <td>Adventure|Animation|Children|Drama|Musical|IMAX</td>\n",
              "      <td>3.811426</td>\n",
              "      <td>4.0</td>\n",
              "      <td>4</td>\n",
              "      <td>47305.0</td>\n",
              "      <td>216 604 754 220 94 113 63 748 454 364 936 497 ...</td>\n",
              "    </tr>\n",
              "  </tbody>\n",
              "</table>\n",
              "</div>"
            ],
            "text/plain": [
              "       movieId  ...                                         movie_tags\n",
              "13135   180095  ...  1073 897 149 1104 230 771 220 846 113 865 454 ...\n",
              "0            1  ...  897 1090 990 1104 230 220 94 113 63 748 454 36...\n",
              "13106   177765  ...  1073 897 883 474 1090 311 1104 216 230 771 220...\n",
              "3869      4306  ...  897 883 1090 990 770 1104 230 220 321 94 113 9...\n",
              "4406      4886  ...  897 883 1090 990 1104 216 230 220 94 113 63 74...\n",
              "480        500  ...  230 771 220 113 865 364 497 742 266 609 128 92...\n",
              "2405      2687  ...  604 220 113 63 454 364 497 844 1062 742 310 26...\n",
              "13141   180987  ...  1073 1104 230 220 63 748 454 378 872 497 837 8...\n",
              "2809      3114  ...  897 1090 230 220 63 748 454 364 497 844 1062 7...\n",
              "350        364  ...  216 604 754 220 94 113 63 748 454 364 936 497 ...\n",
              "\n",
              "[10 rows x 8 columns]"
            ]
          },
          "metadata": {
            "tags": []
          },
          "execution_count": 106
        }
      ]
    },
    {
      "cell_type": "markdown",
      "metadata": {
        "id": "aSGmwOvFSzOW"
      },
      "source": [
        "I am sure that the above implementation is not perfect nor commits to solve real world problem but If it gives you an basic idea about these systems do star the repo and follow us here: https://medium.com/thenoobengineer where you can find the textual explanation fo\n",
        "References:\n",
        "\n",
        "1.   https://developers.google.com/machine-learning/recommendation/content-based/\n",
        "\n",
        "2.   https://tryolabs.com/blog/introduction-to-recommender-systems/\n",
        "\n",
        "3.   For the notebook I referred: https://github.com/helger/content-recommender-movies/blob/master/Content-based%20Movie%20Recommender.ipynb\n",
        "\n",
        "\n",
        "\n"
      ]
    }
  ]
}