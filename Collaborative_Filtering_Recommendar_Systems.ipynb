{
  "nbformat": 4,
  "nbformat_minor": 0,
  "metadata": {
    "colab": {
      "name": "Collaborative Filtering Recommendar Systems.ipynb",
      "provenance": [],
      "collapsed_sections": [],
      "authorship_tag": "ABX9TyNKvn+yvUTsSY9oZ9xAgpce"
    },
    "kernelspec": {
      "name": "python3",
      "display_name": "Python 3"
    }
  },
  "cells": [
    {
      "cell_type": "markdown",
      "metadata": {
        "id": "qHRfGWnc5F-9"
      },
      "source": [
        "##Lets get the imports "
      ]
    },
    {
      "cell_type": "code",
      "metadata": {
        "id": "6GIH75iD445u"
      },
      "source": [
        "import numpy as np\n",
        "import pandas as pd\n",
        "import tensorflow as tf\n",
        "import matplotlib.pyplot as plt\n",
        "\n",
        "from IPython import display\n",
        "\n",
        "\n",
        "# some additional functions\n",
        "def mask(df, key, function):\n",
        "  \"\"\"Returns a filtered dataframe, by applying function to key\"\"\"\n",
        "  return df[function(df[key])]\n",
        "\n",
        "def flatten_cols(df):\n",
        "  df.columns = [' '.join(col).strip() for col in df.columns.values]\n",
        "  return df\n",
        "\n",
        "pd.DataFrame.mask = mask\n",
        "pd.DataFrame.flatten_cols = flatten_cols"
      ],
      "execution_count": 1,
      "outputs": []
    },
    {
      "cell_type": "markdown",
      "metadata": {
        "id": "opfvX9Ur6g0U"
      },
      "source": [
        "## Get the Data\n",
        "We will be using the same MovieLens Dataset we used in previous part of the series. You can get the data from [here](http://files.grouplens.org/datasets/movielens/ml-100k.zip). Feel Free to browse and look for another subset of data from the movie lens. Steps remain the same.\n",
        "\n",
        "Extract the data and lets have a look what it contains."
      ]
    },
    {
      "cell_type": "code",
      "metadata": {
        "colab": {
          "base_uri": "https://localhost:8080/"
        },
        "id": "IgDFphOU5ft4",
        "outputId": "648d7703-54ce-4eb7-8bad-1bd1f71159ac"
      },
      "source": [
        "!wget http://files.grouplens.org/datasets/movielens/ml-100k.zip\n",
        "!unzip ml-100k.zip"
      ],
      "execution_count": 2,
      "outputs": [
        {
          "output_type": "stream",
          "text": [
            "--2021-01-07 15:57:01--  http://files.grouplens.org/datasets/movielens/ml-100k.zip\n",
            "Resolving files.grouplens.org (files.grouplens.org)... 128.101.65.152\n",
            "Connecting to files.grouplens.org (files.grouplens.org)|128.101.65.152|:80... connected.\n",
            "HTTP request sent, awaiting response... 200 OK\n",
            "Length: 4924029 (4.7M) [application/zip]\n",
            "Saving to: ‘ml-100k.zip’\n",
            "\n",
            "ml-100k.zip         100%[===================>]   4.70M  16.2MB/s    in 0.3s    \n",
            "\n",
            "2021-01-07 15:57:01 (16.2 MB/s) - ‘ml-100k.zip’ saved [4924029/4924029]\n",
            "\n",
            "Archive:  ml-100k.zip\n",
            "   creating: ml-100k/\n",
            "  inflating: ml-100k/allbut.pl       \n",
            "  inflating: ml-100k/mku.sh          \n",
            "  inflating: ml-100k/README          \n",
            "  inflating: ml-100k/u.data          \n",
            "  inflating: ml-100k/u.genre         \n",
            "  inflating: ml-100k/u.info          \n",
            "  inflating: ml-100k/u.item          \n",
            "  inflating: ml-100k/u.occupation    \n",
            "  inflating: ml-100k/u.user          \n",
            "  inflating: ml-100k/u1.base         \n",
            "  inflating: ml-100k/u1.test         \n",
            "  inflating: ml-100k/u2.base         \n",
            "  inflating: ml-100k/u2.test         \n",
            "  inflating: ml-100k/u3.base         \n",
            "  inflating: ml-100k/u3.test         \n",
            "  inflating: ml-100k/u4.base         \n",
            "  inflating: ml-100k/u4.test         \n",
            "  inflating: ml-100k/u5.base         \n",
            "  inflating: ml-100k/u5.test         \n",
            "  inflating: ml-100k/ua.base         \n",
            "  inflating: ml-100k/ua.test         \n",
            "  inflating: ml-100k/ub.base         \n",
            "  inflating: ml-100k/ub.test         \n"
          ],
          "name": "stdout"
        }
      ]
    },
    {
      "cell_type": "markdown",
      "metadata": {
        "id": "r67AC-Tv7_r1"
      },
      "source": [
        "### Read the files as CSV"
      ]
    },
    {
      "cell_type": "code",
      "metadata": {
        "colab": {
          "base_uri": "https://localhost:8080/"
        },
        "id": "xYUPb6sccsNj",
        "outputId": "962921ef-33c4-4322-e1df-0f534faa37f9"
      },
      "source": [
        "with open(\"/content/ml-100k/u.info\",\"r\") as f:\n",
        "  print(f.readlines())"
      ],
      "execution_count": 3,
      "outputs": [
        {
          "output_type": "stream",
          "text": [
            "['943 users\\n', '1682 items\\n', '100000 ratings\\n']\n"
          ],
          "name": "stdout"
        }
      ]
    },
    {
      "cell_type": "code",
      "metadata": {
        "colab": {
          "base_uri": "https://localhost:8080/"
        },
        "id": "y858ueMjeVFi",
        "outputId": "ba06d180-9f77-4917-ad1d-3bb02c4297ba"
      },
      "source": [
        "###################################################################\n",
        "#                                                                 #\n",
        "# Reading the required files and see exactly which coloumns we    #\n",
        "# need and then select those for moving ahead                     #\n",
        "#                                                                 #\n",
        "###################################################################\n",
        "\n",
        "print(\"User data...\")\n",
        "with open(\"/content/ml-100k/u.user\",\"r\") as f:\n",
        "  print(f.readlines(50))\n",
        "print()\n",
        "\n",
        "print(\"Ratings Data...\")\n",
        "with open(\"/content/ml-100k/u.data\",\"r\") as f:\n",
        "  print(f.readlines(50))\n",
        "\n",
        "print()\n",
        "print(\"Movies Data...\")\n",
        "with open(\"/content/ml-100k/u.item\",\"r\") as f:\n",
        "  print(f.readlines(1000))\n",
        "\n",
        "print()\n",
        "print(\"Genre Data...\")\n",
        "with open(\"/content/ml-100k/u.genre\",\"r\") as f:\n",
        "  for line in f.readlines(5):\n",
        "    print(line)"
      ],
      "execution_count": 4,
      "outputs": [
        {
          "output_type": "stream",
          "text": [
            "User data...\n",
            "['1|24|M|technician|85711\\n', '2|53|F|other|94043\\n', '3|23|M|writer|32067\\n']\n",
            "\n",
            "Ratings Data...\n",
            "['196\\t242\\t3\\t881250949\\n', '186\\t302\\t3\\t891717742\\n', '22\\t377\\t1\\t878887116\\n']\n",
            "\n",
            "Movies Data...\n",
            "['1|Toy Story (1995)|01-Jan-1995||http://us.imdb.com/M/title-exact?Toy%20Story%20(1995)|0|0|0|1|1|1|0|0|0|0|0|0|0|0|0|0|0|0|0\\n', '2|GoldenEye (1995)|01-Jan-1995||http://us.imdb.com/M/title-exact?GoldenEye%20(1995)|0|1|1|0|0|0|0|0|0|0|0|0|0|0|0|0|1|0|0\\n', '3|Four Rooms (1995)|01-Jan-1995||http://us.imdb.com/M/title-exact?Four%20Rooms%20(1995)|0|0|0|0|0|0|0|0|0|0|0|0|0|0|0|0|1|0|0\\n', '4|Get Shorty (1995)|01-Jan-1995||http://us.imdb.com/M/title-exact?Get%20Shorty%20(1995)|0|1|0|0|0|1|0|0|1|0|0|0|0|0|0|0|0|0|0\\n', '5|Copycat (1995)|01-Jan-1995||http://us.imdb.com/M/title-exact?Copycat%20(1995)|0|0|0|0|0|0|1|0|1|0|0|0|0|0|0|0|1|0|0\\n', '6|Shanghai Triad (Yao a yao yao dao waipo qiao) (1995)|01-Jan-1995||http://us.imdb.com/Title?Yao+a+yao+yao+dao+waipo+qiao+(1995)|0|0|0|0|0|0|0|0|1|0|0|0|0|0|0|0|0|0|0\\n', '7|Twelve Monkeys (1995)|01-Jan-1995||http://us.imdb.com/M/title-exact?Twelve%20Monkeys%20(1995)|0|0|0|0|0|0|0|0|1|0|0|0|0|0|0|1|0|0|0\\n', '8|Babe (1995)|01-Jan-1995||http://us.imdb.com/M/title-exact?Babe%20(1995)|0|0|0|0|1|1|0|0|1|0|0|0|0|0|0|0|0|0|0\\n']\n",
            "\n",
            "Genre Data...\n",
            "unknown|0\n",
            "\n"
          ],
          "name": "stdout"
        }
      ]
    },
    {
      "cell_type": "code",
      "metadata": {
        "id": "6glJQVcY664_"
      },
      "source": [
        "###################################################################\n",
        "#\n",
        "# Reading Data from the files as per the above spec we just saw\n",
        "#\n",
        "###################################################################\n",
        "\n",
        "home_dir = '/content/ml-100k/'\n",
        "\n",
        "user_columns = ['user_id','age','sex','occupation','zip_code']\n",
        "\n",
        "users = pd.read_csv(home_dir+'u.user',\n",
        "                    sep='|',\n",
        "                    names=user_columns,\n",
        "                    encoding='latin-1'\n",
        "                    )\n",
        "\n",
        "rating_columns = ['user_id','movie_id','rating','timestamp']\n",
        "\n",
        "ratings = pd.read_csv(home_dir+'u.data',\n",
        "                      sep='\\t',\n",
        "                      names=rating_columns,\n",
        "                      encoding='latin-1')\n",
        "\n",
        "genres = pd.read_csv(home_dir+'u.genre',\n",
        "                     sep='|',\n",
        "                     names=['genre','id'],\n",
        "                     encoding='latin-1'\n",
        "                     )\n",
        "\n",
        "# Each record in movies file have a binary indicator if that movie\n",
        "# belongs to that genre\n",
        "# these genres are from the genre dataframe that we just created above\n",
        "\n",
        "genre_columns = list(genres.genre.values)\n",
        "movie_columns = ['movie_id','title','release_date','video_release_date','imdb_url'] + genre_columns\n",
        "movies = pd.read_csv(home_dir+'u.item',\n",
        "                     sep='|',\n",
        "                     names=movie_columns,\n",
        "                     encoding='latin-1'\n",
        "                     )"
      ],
      "execution_count": 5,
      "outputs": []
    },
    {
      "cell_type": "code",
      "metadata": {
        "colab": {
          "base_uri": "https://localhost:8080/",
          "height": 219
        },
        "id": "Yh1-yw1p8Ccx",
        "outputId": "1f8e3cb5-c653-421d-86ad-c03871973d73"
      },
      "source": [
        "###################################################################\n",
        "#\n",
        "# Movies DataFrame contains information about the movie along with\n",
        "# the Genre columns. These Columns can have either 0 or 1 depending\n",
        "# on whether or not the movie belong to that particular genre.\n",
        "#\n",
        "###################################################################\n",
        "movies.head(2)"
      ],
      "execution_count": 6,
      "outputs": [
        {
          "output_type": "execute_result",
          "data": {
            "text/html": [
              "<div>\n",
              "<style scoped>\n",
              "    .dataframe tbody tr th:only-of-type {\n",
              "        vertical-align: middle;\n",
              "    }\n",
              "\n",
              "    .dataframe tbody tr th {\n",
              "        vertical-align: top;\n",
              "    }\n",
              "\n",
              "    .dataframe thead th {\n",
              "        text-align: right;\n",
              "    }\n",
              "</style>\n",
              "<table border=\"1\" class=\"dataframe\">\n",
              "  <thead>\n",
              "    <tr style=\"text-align: right;\">\n",
              "      <th></th>\n",
              "      <th>movie_id</th>\n",
              "      <th>title</th>\n",
              "      <th>release_date</th>\n",
              "      <th>video_release_date</th>\n",
              "      <th>imdb_url</th>\n",
              "      <th>unknown</th>\n",
              "      <th>Action</th>\n",
              "      <th>Adventure</th>\n",
              "      <th>Animation</th>\n",
              "      <th>Children's</th>\n",
              "      <th>Comedy</th>\n",
              "      <th>Crime</th>\n",
              "      <th>Documentary</th>\n",
              "      <th>Drama</th>\n",
              "      <th>Fantasy</th>\n",
              "      <th>Film-Noir</th>\n",
              "      <th>Horror</th>\n",
              "      <th>Musical</th>\n",
              "      <th>Mystery</th>\n",
              "      <th>Romance</th>\n",
              "      <th>Sci-Fi</th>\n",
              "      <th>Thriller</th>\n",
              "      <th>War</th>\n",
              "      <th>Western</th>\n",
              "    </tr>\n",
              "  </thead>\n",
              "  <tbody>\n",
              "    <tr>\n",
              "      <th>0</th>\n",
              "      <td>1</td>\n",
              "      <td>Toy Story (1995)</td>\n",
              "      <td>01-Jan-1995</td>\n",
              "      <td>NaN</td>\n",
              "      <td>http://us.imdb.com/M/title-exact?Toy%20Story%2...</td>\n",
              "      <td>0</td>\n",
              "      <td>0</td>\n",
              "      <td>0</td>\n",
              "      <td>1</td>\n",
              "      <td>1</td>\n",
              "      <td>1</td>\n",
              "      <td>0</td>\n",
              "      <td>0</td>\n",
              "      <td>0</td>\n",
              "      <td>0</td>\n",
              "      <td>0</td>\n",
              "      <td>0</td>\n",
              "      <td>0</td>\n",
              "      <td>0</td>\n",
              "      <td>0</td>\n",
              "      <td>0</td>\n",
              "      <td>0</td>\n",
              "      <td>0</td>\n",
              "      <td>0</td>\n",
              "    </tr>\n",
              "    <tr>\n",
              "      <th>1</th>\n",
              "      <td>2</td>\n",
              "      <td>GoldenEye (1995)</td>\n",
              "      <td>01-Jan-1995</td>\n",
              "      <td>NaN</td>\n",
              "      <td>http://us.imdb.com/M/title-exact?GoldenEye%20(...</td>\n",
              "      <td>0</td>\n",
              "      <td>1</td>\n",
              "      <td>1</td>\n",
              "      <td>0</td>\n",
              "      <td>0</td>\n",
              "      <td>0</td>\n",
              "      <td>0</td>\n",
              "      <td>0</td>\n",
              "      <td>0</td>\n",
              "      <td>0</td>\n",
              "      <td>0</td>\n",
              "      <td>0</td>\n",
              "      <td>0</td>\n",
              "      <td>0</td>\n",
              "      <td>0</td>\n",
              "      <td>0</td>\n",
              "      <td>1</td>\n",
              "      <td>0</td>\n",
              "      <td>0</td>\n",
              "    </tr>\n",
              "  </tbody>\n",
              "</table>\n",
              "</div>"
            ],
            "text/plain": [
              "   movie_id             title release_date  ...  Thriller War  Western\n",
              "0         1  Toy Story (1995)  01-Jan-1995  ...         0   0        0\n",
              "1         2  GoldenEye (1995)  01-Jan-1995  ...         1   0        0\n",
              "\n",
              "[2 rows x 24 columns]"
            ]
          },
          "metadata": {
            "tags": []
          },
          "execution_count": 6
        }
      ]
    },
    {
      "cell_type": "code",
      "metadata": {
        "id": "LXsW1nR58GLR",
        "colab": {
          "base_uri": "https://localhost:8080/",
          "height": 112
        },
        "outputId": "b09101c4-3ded-4346-b0f9-9e031352e54e"
      },
      "source": [
        "###################################################################\n",
        "#\n",
        "# Users DataFrame contains an id unique to every user and their\n",
        "# information like age, sex, occupation and location. While we \n",
        "# do not use these right now for our notebook, but these factors\n",
        "# can be useful in one's choice. \n",
        "#\n",
        "###################################################################\n",
        "users.head(2)"
      ],
      "execution_count": 7,
      "outputs": [
        {
          "output_type": "execute_result",
          "data": {
            "text/html": [
              "<div>\n",
              "<style scoped>\n",
              "    .dataframe tbody tr th:only-of-type {\n",
              "        vertical-align: middle;\n",
              "    }\n",
              "\n",
              "    .dataframe tbody tr th {\n",
              "        vertical-align: top;\n",
              "    }\n",
              "\n",
              "    .dataframe thead th {\n",
              "        text-align: right;\n",
              "    }\n",
              "</style>\n",
              "<table border=\"1\" class=\"dataframe\">\n",
              "  <thead>\n",
              "    <tr style=\"text-align: right;\">\n",
              "      <th></th>\n",
              "      <th>user_id</th>\n",
              "      <th>age</th>\n",
              "      <th>sex</th>\n",
              "      <th>occupation</th>\n",
              "      <th>zip_code</th>\n",
              "    </tr>\n",
              "  </thead>\n",
              "  <tbody>\n",
              "    <tr>\n",
              "      <th>0</th>\n",
              "      <td>1</td>\n",
              "      <td>24</td>\n",
              "      <td>M</td>\n",
              "      <td>technician</td>\n",
              "      <td>85711</td>\n",
              "    </tr>\n",
              "    <tr>\n",
              "      <th>1</th>\n",
              "      <td>2</td>\n",
              "      <td>53</td>\n",
              "      <td>F</td>\n",
              "      <td>other</td>\n",
              "      <td>94043</td>\n",
              "    </tr>\n",
              "  </tbody>\n",
              "</table>\n",
              "</div>"
            ],
            "text/plain": [
              "   user_id  age sex  occupation zip_code\n",
              "0        1   24   M  technician    85711\n",
              "1        2   53   F       other    94043"
            ]
          },
          "metadata": {
            "tags": []
          },
          "execution_count": 7
        }
      ]
    },
    {
      "cell_type": "code",
      "metadata": {
        "colab": {
          "base_uri": "https://localhost:8080/",
          "height": 112
        },
        "id": "WkB9D7raOo3l",
        "outputId": "0e842012-4d17-4382-d6c4-871dd4eb37eb"
      },
      "source": [
        "###################################################################\n",
        "#\n",
        "# Ratings Dataframe contains very few, yet important data.\n",
        "# This df contains all the ratings given by users for the movie out of\n",
        "# 5 and timestamp of the rating given\n",
        "#\n",
        "###################################################################\n",
        "ratings.head(2)"
      ],
      "execution_count": 8,
      "outputs": [
        {
          "output_type": "execute_result",
          "data": {
            "text/html": [
              "<div>\n",
              "<style scoped>\n",
              "    .dataframe tbody tr th:only-of-type {\n",
              "        vertical-align: middle;\n",
              "    }\n",
              "\n",
              "    .dataframe tbody tr th {\n",
              "        vertical-align: top;\n",
              "    }\n",
              "\n",
              "    .dataframe thead th {\n",
              "        text-align: right;\n",
              "    }\n",
              "</style>\n",
              "<table border=\"1\" class=\"dataframe\">\n",
              "  <thead>\n",
              "    <tr style=\"text-align: right;\">\n",
              "      <th></th>\n",
              "      <th>user_id</th>\n",
              "      <th>movie_id</th>\n",
              "      <th>rating</th>\n",
              "      <th>timestamp</th>\n",
              "    </tr>\n",
              "  </thead>\n",
              "  <tbody>\n",
              "    <tr>\n",
              "      <th>0</th>\n",
              "      <td>196</td>\n",
              "      <td>242</td>\n",
              "      <td>3</td>\n",
              "      <td>881250949</td>\n",
              "    </tr>\n",
              "    <tr>\n",
              "      <th>1</th>\n",
              "      <td>186</td>\n",
              "      <td>302</td>\n",
              "      <td>3</td>\n",
              "      <td>891717742</td>\n",
              "    </tr>\n",
              "  </tbody>\n",
              "</table>\n",
              "</div>"
            ],
            "text/plain": [
              "   user_id  movie_id  rating  timestamp\n",
              "0      196       242       3  881250949\n",
              "1      186       302       3  891717742"
            ]
          },
          "metadata": {
            "tags": []
          },
          "execution_count": 8
        }
      ]
    },
    {
      "cell_type": "code",
      "metadata": {
        "colab": {
          "base_uri": "https://localhost:8080/"
        },
        "id": "JwBDffy9Orw9",
        "outputId": "7650a965-a0f0-4572-8712-54411ff1267b"
      },
      "source": [
        "print('Genres,Ratings,Users,Movies')\n",
        "genres.shape,ratings.shape,users.shape,movies.shape"
      ],
      "execution_count": 9,
      "outputs": [
        {
          "output_type": "stream",
          "text": [
            "Genres,Ratings,Users,Movies\n"
          ],
          "name": "stdout"
        },
        {
          "output_type": "execute_result",
          "data": {
            "text/plain": [
              "((19, 2), (100000, 4), (943, 5), (1682, 24))"
            ]
          },
          "metadata": {
            "tags": []
          },
          "execution_count": 9
        }
      ]
    },
    {
      "cell_type": "code",
      "metadata": {
        "colab": {
          "base_uri": "https://localhost:8080/",
          "height": 226
        },
        "id": "ThsHbjWUOv8J",
        "outputId": "9106f0c4-7452-449d-dcfd-e335aa87ca62"
      },
      "source": [
        "###################################################################\n",
        "#\n",
        "# Our Mandatory functions on a dataframe. While these seem comman\n",
        "# can sometimes really be a lifesaver. Notice I used a parameter\n",
        "# include = [np.object,int]. You can use this to include a certain \n",
        "# type of data in your df which by default is being excluded. You \n",
        "# can also use exclude = [] parameter incase you want to exclude.\n",
        "#\n",
        "###################################################################\n",
        "\n",
        "users.describe(include=[np.object,int]).T"
      ],
      "execution_count": 10,
      "outputs": [
        {
          "output_type": "execute_result",
          "data": {
            "text/html": [
              "<div>\n",
              "<style scoped>\n",
              "    .dataframe tbody tr th:only-of-type {\n",
              "        vertical-align: middle;\n",
              "    }\n",
              "\n",
              "    .dataframe tbody tr th {\n",
              "        vertical-align: top;\n",
              "    }\n",
              "\n",
              "    .dataframe thead th {\n",
              "        text-align: right;\n",
              "    }\n",
              "</style>\n",
              "<table border=\"1\" class=\"dataframe\">\n",
              "  <thead>\n",
              "    <tr style=\"text-align: right;\">\n",
              "      <th></th>\n",
              "      <th>count</th>\n",
              "      <th>unique</th>\n",
              "      <th>top</th>\n",
              "      <th>freq</th>\n",
              "      <th>mean</th>\n",
              "      <th>std</th>\n",
              "      <th>min</th>\n",
              "      <th>25%</th>\n",
              "      <th>50%</th>\n",
              "      <th>75%</th>\n",
              "      <th>max</th>\n",
              "    </tr>\n",
              "  </thead>\n",
              "  <tbody>\n",
              "    <tr>\n",
              "      <th>user_id</th>\n",
              "      <td>943</td>\n",
              "      <td>NaN</td>\n",
              "      <td>NaN</td>\n",
              "      <td>NaN</td>\n",
              "      <td>472</td>\n",
              "      <td>272.365</td>\n",
              "      <td>1</td>\n",
              "      <td>236.5</td>\n",
              "      <td>472</td>\n",
              "      <td>707.5</td>\n",
              "      <td>943</td>\n",
              "    </tr>\n",
              "    <tr>\n",
              "      <th>age</th>\n",
              "      <td>943</td>\n",
              "      <td>NaN</td>\n",
              "      <td>NaN</td>\n",
              "      <td>NaN</td>\n",
              "      <td>34.052</td>\n",
              "      <td>12.1927</td>\n",
              "      <td>7</td>\n",
              "      <td>25</td>\n",
              "      <td>31</td>\n",
              "      <td>43</td>\n",
              "      <td>73</td>\n",
              "    </tr>\n",
              "    <tr>\n",
              "      <th>sex</th>\n",
              "      <td>943</td>\n",
              "      <td>2</td>\n",
              "      <td>M</td>\n",
              "      <td>670</td>\n",
              "      <td>NaN</td>\n",
              "      <td>NaN</td>\n",
              "      <td>NaN</td>\n",
              "      <td>NaN</td>\n",
              "      <td>NaN</td>\n",
              "      <td>NaN</td>\n",
              "      <td>NaN</td>\n",
              "    </tr>\n",
              "    <tr>\n",
              "      <th>occupation</th>\n",
              "      <td>943</td>\n",
              "      <td>21</td>\n",
              "      <td>student</td>\n",
              "      <td>196</td>\n",
              "      <td>NaN</td>\n",
              "      <td>NaN</td>\n",
              "      <td>NaN</td>\n",
              "      <td>NaN</td>\n",
              "      <td>NaN</td>\n",
              "      <td>NaN</td>\n",
              "      <td>NaN</td>\n",
              "    </tr>\n",
              "    <tr>\n",
              "      <th>zip_code</th>\n",
              "      <td>943</td>\n",
              "      <td>795</td>\n",
              "      <td>55414</td>\n",
              "      <td>9</td>\n",
              "      <td>NaN</td>\n",
              "      <td>NaN</td>\n",
              "      <td>NaN</td>\n",
              "      <td>NaN</td>\n",
              "      <td>NaN</td>\n",
              "      <td>NaN</td>\n",
              "      <td>NaN</td>\n",
              "    </tr>\n",
              "  </tbody>\n",
              "</table>\n",
              "</div>"
            ],
            "text/plain": [
              "           count unique      top freq    mean  ...  min    25%  50%    75%  max\n",
              "user_id      943    NaN      NaN  NaN     472  ...    1  236.5  472  707.5  943\n",
              "age          943    NaN      NaN  NaN  34.052  ...    7     25   31     43   73\n",
              "sex          943      2        M  670     NaN  ...  NaN    NaN  NaN    NaN  NaN\n",
              "occupation   943     21  student  196     NaN  ...  NaN    NaN  NaN    NaN  NaN\n",
              "zip_code     943    795    55414    9     NaN  ...  NaN    NaN  NaN    NaN  NaN\n",
              "\n",
              "[5 rows x 11 columns]"
            ]
          },
          "metadata": {
            "tags": []
          },
          "execution_count": 10
        }
      ]
    },
    {
      "cell_type": "code",
      "metadata": {
        "colab": {
          "base_uri": "https://localhost:8080/",
          "height": 143
        },
        "id": "asF7438ib0cD",
        "outputId": "b7dd5f4b-231c-4a53-efa9-be10a92cae97"
      },
      "source": [
        "users.describe(exclude=[int]).T"
      ],
      "execution_count": 11,
      "outputs": [
        {
          "output_type": "execute_result",
          "data": {
            "text/html": [
              "<div>\n",
              "<style scoped>\n",
              "    .dataframe tbody tr th:only-of-type {\n",
              "        vertical-align: middle;\n",
              "    }\n",
              "\n",
              "    .dataframe tbody tr th {\n",
              "        vertical-align: top;\n",
              "    }\n",
              "\n",
              "    .dataframe thead th {\n",
              "        text-align: right;\n",
              "    }\n",
              "</style>\n",
              "<table border=\"1\" class=\"dataframe\">\n",
              "  <thead>\n",
              "    <tr style=\"text-align: right;\">\n",
              "      <th></th>\n",
              "      <th>count</th>\n",
              "      <th>unique</th>\n",
              "      <th>top</th>\n",
              "      <th>freq</th>\n",
              "    </tr>\n",
              "  </thead>\n",
              "  <tbody>\n",
              "    <tr>\n",
              "      <th>sex</th>\n",
              "      <td>943</td>\n",
              "      <td>2</td>\n",
              "      <td>M</td>\n",
              "      <td>670</td>\n",
              "    </tr>\n",
              "    <tr>\n",
              "      <th>occupation</th>\n",
              "      <td>943</td>\n",
              "      <td>21</td>\n",
              "      <td>student</td>\n",
              "      <td>196</td>\n",
              "    </tr>\n",
              "    <tr>\n",
              "      <th>zip_code</th>\n",
              "      <td>943</td>\n",
              "      <td>795</td>\n",
              "      <td>55414</td>\n",
              "      <td>9</td>\n",
              "    </tr>\n",
              "  </tbody>\n",
              "</table>\n",
              "</div>"
            ],
            "text/plain": [
              "           count unique      top freq\n",
              "sex          943      2        M  670\n",
              "occupation   943     21  student  196\n",
              "zip_code     943    795    55414    9"
            ]
          },
          "metadata": {
            "tags": []
          },
          "execution_count": 11
        }
      ]
    },
    {
      "cell_type": "markdown",
      "metadata": {
        "id": "xs6_wG4qQKjb"
      },
      "source": [
        "## Start preprocessing the data"
      ]
    },
    {
      "cell_type": "code",
      "metadata": {
        "colab": {
          "base_uri": "https://localhost:8080/",
          "height": 261
        },
        "id": "4y7QjINdQKGA",
        "outputId": "94f248b6-07bd-447b-d9f9-ace78e40c5d7"
      },
      "source": [
        "###################################################################\n",
        "#\n",
        "# Merging ratings and Users to get info about user \n",
        "# ratings and user in one place. \n",
        "#\n",
        "###################################################################\n",
        "\n",
        "user_ratings = (ratings.groupby('user_id',as_index=False).agg({'rating':['count','mean']}).flatten_cols().merge(users,on='user_id'))\n",
        "\n",
        "print(\"Below DataFrame depicts average ratings as well as total number of ratings by a user\\n\")\n",
        "\n",
        "user_ratings.head()"
      ],
      "execution_count": 12,
      "outputs": [
        {
          "output_type": "stream",
          "text": [
            "Below DataFrame depicts average ratings as well as total number of ratings by a user\n",
            "\n"
          ],
          "name": "stdout"
        },
        {
          "output_type": "execute_result",
          "data": {
            "text/html": [
              "<div>\n",
              "<style scoped>\n",
              "    .dataframe tbody tr th:only-of-type {\n",
              "        vertical-align: middle;\n",
              "    }\n",
              "\n",
              "    .dataframe tbody tr th {\n",
              "        vertical-align: top;\n",
              "    }\n",
              "\n",
              "    .dataframe thead th {\n",
              "        text-align: right;\n",
              "    }\n",
              "</style>\n",
              "<table border=\"1\" class=\"dataframe\">\n",
              "  <thead>\n",
              "    <tr style=\"text-align: right;\">\n",
              "      <th></th>\n",
              "      <th>user_id</th>\n",
              "      <th>rating count</th>\n",
              "      <th>rating mean</th>\n",
              "      <th>age</th>\n",
              "      <th>sex</th>\n",
              "      <th>occupation</th>\n",
              "      <th>zip_code</th>\n",
              "    </tr>\n",
              "  </thead>\n",
              "  <tbody>\n",
              "    <tr>\n",
              "      <th>0</th>\n",
              "      <td>1</td>\n",
              "      <td>272</td>\n",
              "      <td>3.610294</td>\n",
              "      <td>24</td>\n",
              "      <td>M</td>\n",
              "      <td>technician</td>\n",
              "      <td>85711</td>\n",
              "    </tr>\n",
              "    <tr>\n",
              "      <th>1</th>\n",
              "      <td>2</td>\n",
              "      <td>62</td>\n",
              "      <td>3.709677</td>\n",
              "      <td>53</td>\n",
              "      <td>F</td>\n",
              "      <td>other</td>\n",
              "      <td>94043</td>\n",
              "    </tr>\n",
              "    <tr>\n",
              "      <th>2</th>\n",
              "      <td>3</td>\n",
              "      <td>54</td>\n",
              "      <td>2.796296</td>\n",
              "      <td>23</td>\n",
              "      <td>M</td>\n",
              "      <td>writer</td>\n",
              "      <td>32067</td>\n",
              "    </tr>\n",
              "    <tr>\n",
              "      <th>3</th>\n",
              "      <td>4</td>\n",
              "      <td>24</td>\n",
              "      <td>4.333333</td>\n",
              "      <td>24</td>\n",
              "      <td>M</td>\n",
              "      <td>technician</td>\n",
              "      <td>43537</td>\n",
              "    </tr>\n",
              "    <tr>\n",
              "      <th>4</th>\n",
              "      <td>5</td>\n",
              "      <td>175</td>\n",
              "      <td>2.874286</td>\n",
              "      <td>33</td>\n",
              "      <td>F</td>\n",
              "      <td>other</td>\n",
              "      <td>15213</td>\n",
              "    </tr>\n",
              "  </tbody>\n",
              "</table>\n",
              "</div>"
            ],
            "text/plain": [
              "   user_id  rating count  rating mean  age sex  occupation zip_code\n",
              "0        1           272     3.610294   24   M  technician    85711\n",
              "1        2            62     3.709677   53   F       other    94043\n",
              "2        3            54     2.796296   23   M      writer    32067\n",
              "3        4            24     4.333333   24   M  technician    43537\n",
              "4        5           175     2.874286   33   F       other    15213"
            ]
          },
          "metadata": {
            "tags": []
          },
          "execution_count": 12
        }
      ]
    },
    {
      "cell_type": "code",
      "metadata": {
        "colab": {
          "base_uri": "https://localhost:8080/",
          "height": 417
        },
        "id": "jcqF2AUTPMcN",
        "outputId": "57bca705-0360-4faf-cf4e-79fae9875617"
      },
      "source": [
        "####################################################################\n",
        "#\n",
        "# Lets try to get more insights about movies and ratings using the \n",
        "# base dataframes like average rating and number of ratings for \n",
        "# that movie\n",
        "#\n",
        "####################################################################\n",
        "\n",
        "tmp_ratings = ratings.groupby('movie_id',as_index=False).agg({'rating':['count','mean']}).flatten_cols()\n",
        "\n",
        "movie_ratings = movies.merge(\n",
        "    tmp_ratings,\n",
        "    on='movie_id'\n",
        ")\n",
        "\n",
        "movie_ratings.head()"
      ],
      "execution_count": null,
      "outputs": [
        {
          "output_type": "execute_result",
          "data": {
            "text/html": [
              "<div>\n",
              "<style scoped>\n",
              "    .dataframe tbody tr th:only-of-type {\n",
              "        vertical-align: middle;\n",
              "    }\n",
              "\n",
              "    .dataframe tbody tr th {\n",
              "        vertical-align: top;\n",
              "    }\n",
              "\n",
              "    .dataframe thead th {\n",
              "        text-align: right;\n",
              "    }\n",
              "</style>\n",
              "<table border=\"1\" class=\"dataframe\">\n",
              "  <thead>\n",
              "    <tr style=\"text-align: right;\">\n",
              "      <th></th>\n",
              "      <th>movie_id</th>\n",
              "      <th>title</th>\n",
              "      <th>release_date</th>\n",
              "      <th>video_release_date</th>\n",
              "      <th>imdb_url</th>\n",
              "      <th>unknown</th>\n",
              "      <th>Action</th>\n",
              "      <th>Adventure</th>\n",
              "      <th>Animation</th>\n",
              "      <th>Children's</th>\n",
              "      <th>Comedy</th>\n",
              "      <th>Crime</th>\n",
              "      <th>Documentary</th>\n",
              "      <th>Drama</th>\n",
              "      <th>Fantasy</th>\n",
              "      <th>Film-Noir</th>\n",
              "      <th>Horror</th>\n",
              "      <th>Musical</th>\n",
              "      <th>Mystery</th>\n",
              "      <th>Romance</th>\n",
              "      <th>Sci-Fi</th>\n",
              "      <th>Thriller</th>\n",
              "      <th>War</th>\n",
              "      <th>Western</th>\n",
              "      <th>rating count</th>\n",
              "      <th>rating mean</th>\n",
              "    </tr>\n",
              "  </thead>\n",
              "  <tbody>\n",
              "    <tr>\n",
              "      <th>0</th>\n",
              "      <td>1</td>\n",
              "      <td>Toy Story (1995)</td>\n",
              "      <td>01-Jan-1995</td>\n",
              "      <td>NaN</td>\n",
              "      <td>http://us.imdb.com/M/title-exact?Toy%20Story%2...</td>\n",
              "      <td>0</td>\n",
              "      <td>0</td>\n",
              "      <td>0</td>\n",
              "      <td>1</td>\n",
              "      <td>1</td>\n",
              "      <td>1</td>\n",
              "      <td>0</td>\n",
              "      <td>0</td>\n",
              "      <td>0</td>\n",
              "      <td>0</td>\n",
              "      <td>0</td>\n",
              "      <td>0</td>\n",
              "      <td>0</td>\n",
              "      <td>0</td>\n",
              "      <td>0</td>\n",
              "      <td>0</td>\n",
              "      <td>0</td>\n",
              "      <td>0</td>\n",
              "      <td>0</td>\n",
              "      <td>452</td>\n",
              "      <td>3.878319</td>\n",
              "    </tr>\n",
              "    <tr>\n",
              "      <th>1</th>\n",
              "      <td>2</td>\n",
              "      <td>GoldenEye (1995)</td>\n",
              "      <td>01-Jan-1995</td>\n",
              "      <td>NaN</td>\n",
              "      <td>http://us.imdb.com/M/title-exact?GoldenEye%20(...</td>\n",
              "      <td>0</td>\n",
              "      <td>1</td>\n",
              "      <td>1</td>\n",
              "      <td>0</td>\n",
              "      <td>0</td>\n",
              "      <td>0</td>\n",
              "      <td>0</td>\n",
              "      <td>0</td>\n",
              "      <td>0</td>\n",
              "      <td>0</td>\n",
              "      <td>0</td>\n",
              "      <td>0</td>\n",
              "      <td>0</td>\n",
              "      <td>0</td>\n",
              "      <td>0</td>\n",
              "      <td>0</td>\n",
              "      <td>1</td>\n",
              "      <td>0</td>\n",
              "      <td>0</td>\n",
              "      <td>131</td>\n",
              "      <td>3.206107</td>\n",
              "    </tr>\n",
              "    <tr>\n",
              "      <th>2</th>\n",
              "      <td>3</td>\n",
              "      <td>Four Rooms (1995)</td>\n",
              "      <td>01-Jan-1995</td>\n",
              "      <td>NaN</td>\n",
              "      <td>http://us.imdb.com/M/title-exact?Four%20Rooms%...</td>\n",
              "      <td>0</td>\n",
              "      <td>0</td>\n",
              "      <td>0</td>\n",
              "      <td>0</td>\n",
              "      <td>0</td>\n",
              "      <td>0</td>\n",
              "      <td>0</td>\n",
              "      <td>0</td>\n",
              "      <td>0</td>\n",
              "      <td>0</td>\n",
              "      <td>0</td>\n",
              "      <td>0</td>\n",
              "      <td>0</td>\n",
              "      <td>0</td>\n",
              "      <td>0</td>\n",
              "      <td>0</td>\n",
              "      <td>1</td>\n",
              "      <td>0</td>\n",
              "      <td>0</td>\n",
              "      <td>90</td>\n",
              "      <td>3.033333</td>\n",
              "    </tr>\n",
              "    <tr>\n",
              "      <th>3</th>\n",
              "      <td>4</td>\n",
              "      <td>Get Shorty (1995)</td>\n",
              "      <td>01-Jan-1995</td>\n",
              "      <td>NaN</td>\n",
              "      <td>http://us.imdb.com/M/title-exact?Get%20Shorty%...</td>\n",
              "      <td>0</td>\n",
              "      <td>1</td>\n",
              "      <td>0</td>\n",
              "      <td>0</td>\n",
              "      <td>0</td>\n",
              "      <td>1</td>\n",
              "      <td>0</td>\n",
              "      <td>0</td>\n",
              "      <td>1</td>\n",
              "      <td>0</td>\n",
              "      <td>0</td>\n",
              "      <td>0</td>\n",
              "      <td>0</td>\n",
              "      <td>0</td>\n",
              "      <td>0</td>\n",
              "      <td>0</td>\n",
              "      <td>0</td>\n",
              "      <td>0</td>\n",
              "      <td>0</td>\n",
              "      <td>209</td>\n",
              "      <td>3.550239</td>\n",
              "    </tr>\n",
              "    <tr>\n",
              "      <th>4</th>\n",
              "      <td>5</td>\n",
              "      <td>Copycat (1995)</td>\n",
              "      <td>01-Jan-1995</td>\n",
              "      <td>NaN</td>\n",
              "      <td>http://us.imdb.com/M/title-exact?Copycat%20(1995)</td>\n",
              "      <td>0</td>\n",
              "      <td>0</td>\n",
              "      <td>0</td>\n",
              "      <td>0</td>\n",
              "      <td>0</td>\n",
              "      <td>0</td>\n",
              "      <td>1</td>\n",
              "      <td>0</td>\n",
              "      <td>1</td>\n",
              "      <td>0</td>\n",
              "      <td>0</td>\n",
              "      <td>0</td>\n",
              "      <td>0</td>\n",
              "      <td>0</td>\n",
              "      <td>0</td>\n",
              "      <td>0</td>\n",
              "      <td>1</td>\n",
              "      <td>0</td>\n",
              "      <td>0</td>\n",
              "      <td>86</td>\n",
              "      <td>3.302326</td>\n",
              "    </tr>\n",
              "  </tbody>\n",
              "</table>\n",
              "</div>"
            ],
            "text/plain": [
              "   movie_id              title release_date  ...  Western rating count  rating mean\n",
              "0         1   Toy Story (1995)  01-Jan-1995  ...        0          452     3.878319\n",
              "1         2   GoldenEye (1995)  01-Jan-1995  ...        0          131     3.206107\n",
              "2         3  Four Rooms (1995)  01-Jan-1995  ...        0           90     3.033333\n",
              "3         4  Get Shorty (1995)  01-Jan-1995  ...        0          209     3.550239\n",
              "4         5     Copycat (1995)  01-Jan-1995  ...        0           86     3.302326\n",
              "\n",
              "[5 rows x 26 columns]"
            ]
          },
          "metadata": {
            "tags": []
          },
          "execution_count": 17
        }
      ]
    },
    {
      "cell_type": "markdown",
      "metadata": {
        "id": "Jv5TlEE_kgXF"
      },
      "source": [
        "# II. What do we need to do?\n",
        "\n",
        "Our goal is to factorize the ratings matrix $A$ into the product of a user embedding matrix $U$ and movie embedding matrix $V$, such that $A \\approx UV^\\top$ with\n",
        "$U = \\begin{bmatrix} u_{1} \\\\ \\hline \\vdots \\\\ \\hline u_{N} \\end{bmatrix}$ and\n",
        "$V = \\begin{bmatrix} v_{1} \\\\ \\hline \\vdots \\\\ \\hline v_{M} \\end{bmatrix}$.\n",
        "\n",
        "Here\n",
        "- $N$ is the number of users,\n",
        "- $M$ is the number of movies,\n",
        "- $A_{ij}$ is the rating of the $j$th movies by the $i$th user,\n",
        "- each row $U_i$ is a $d$-dimensional vector (embedding) representing user $i$,\n",
        "- each row $V_j$ is a $d$-dimensional vector (embedding) representing movie $j$,\n",
        "- the prediction of the model for the $(i, j)$ pair is the dot product $\\langle U_i, V_j \\rangle$.\n",
        "\n"
      ]
    },
    {
      "cell_type": "markdown",
      "metadata": {
        "id": "GiO3BR_cfup1"
      },
      "source": [
        "# Encode Users and Movies as integer indices"
      ]
    },
    {
      "cell_type": "code",
      "metadata": {
        "id": "DY0-_eDXftJQ"
      },
      "source": [
        "####################################################################\n",
        "#\n",
        "# Getting Unique user ids and creating two encodings. One from user_id\n",
        "# to index. Another from index to user ids.\n",
        "#\n",
        "####################################################################\n",
        "\n",
        "user_ids = ratings['user_id'].unique().tolist()\n",
        "user2user_encoded = {x:i for i,x in enumerate(user_ids)}\n",
        "userencoded2user = {i:x for i,x in enumerate(user_ids)}"
      ],
      "execution_count": 13,
      "outputs": []
    },
    {
      "cell_type": "code",
      "metadata": {
        "colab": {
          "base_uri": "https://localhost:8080/"
        },
        "id": "tY9BAZyFl1eg",
        "outputId": "5f72a94e-3cfe-44dc-c755-556371e26357"
      },
      "source": [
        "for i,x in enumerate(user_ids[:10]):\n",
        "  print(x,\": \",i,end=\"    \")\n",
        "  print(i,\": \",x)"
      ],
      "execution_count": 18,
      "outputs": [
        {
          "output_type": "stream",
          "text": [
            "196 :  0    0 :  196\n",
            "186 :  1    1 :  186\n",
            "22 :  2    2 :  22\n",
            "244 :  3    3 :  244\n",
            "166 :  4    4 :  166\n",
            "298 :  5    5 :  298\n",
            "115 :  6    6 :  115\n",
            "253 :  7    7 :  253\n",
            "305 :  8    8 :  305\n",
            "6 :  9    9 :  6\n"
          ],
          "name": "stdout"
        }
      ]
    },
    {
      "cell_type": "code",
      "metadata": {
        "id": "tJlWWCPPkx3V"
      },
      "source": [
        "####################################################################\n",
        "#\n",
        "# Getting unique movie IDs and create two mappings, one from movie_id\n",
        "# to index/unique number and another vice versa.\n",
        "#\n",
        "####################################################################\n",
        "\n",
        "movie_ids = ratings['movie_id'].unique().tolist()\n",
        "movie2movie_encoded = {x:i for i,x in enumerate(movie_ids)}\n",
        "movieencoded2movie = {i:x for i,x in enumerate(movie_ids)}"
      ],
      "execution_count": 19,
      "outputs": []
    },
    {
      "cell_type": "code",
      "metadata": {
        "colab": {
          "base_uri": "https://localhost:8080/"
        },
        "id": "ZETLLBVmm0P-",
        "outputId": "79da598b-4778-4eee-d5bd-c6e13da4581f"
      },
      "source": [
        "for i,x in enumerate(movie_ids[:10]):\n",
        "  print(x,\": \",i,end=\"    \")\n",
        "  print(i,\": \",x)"
      ],
      "execution_count": 20,
      "outputs": [
        {
          "output_type": "stream",
          "text": [
            "242 :  0    0 :  242\n",
            "302 :  1    1 :  302\n",
            "377 :  2    2 :  377\n",
            "51 :  3    3 :  51\n",
            "346 :  4    4 :  346\n",
            "474 :  5    5 :  474\n",
            "265 :  6    6 :  265\n",
            "465 :  7    7 :  465\n",
            "451 :  8    8 :  451\n",
            "86 :  9    9 :  86\n"
          ],
          "name": "stdout"
        }
      ]
    },
    {
      "cell_type": "code",
      "metadata": {
        "colab": {
          "base_uri": "https://localhost:8080/",
          "height": 363
        },
        "id": "XKwaqt1ioV5S",
        "outputId": "d288029d-6d5f-4e7b-abbd-dab94379cc6a"
      },
      "source": [
        "####################################################################\n",
        "#\n",
        "# Ratings before mapping the user id and movie id to the encodings\n",
        "#\n",
        "####################################################################\n",
        "\n",
        "ratings[:10]"
      ],
      "execution_count": 22,
      "outputs": [
        {
          "output_type": "execute_result",
          "data": {
            "text/html": [
              "<div>\n",
              "<style scoped>\n",
              "    .dataframe tbody tr th:only-of-type {\n",
              "        vertical-align: middle;\n",
              "    }\n",
              "\n",
              "    .dataframe tbody tr th {\n",
              "        vertical-align: top;\n",
              "    }\n",
              "\n",
              "    .dataframe thead th {\n",
              "        text-align: right;\n",
              "    }\n",
              "</style>\n",
              "<table border=\"1\" class=\"dataframe\">\n",
              "  <thead>\n",
              "    <tr style=\"text-align: right;\">\n",
              "      <th></th>\n",
              "      <th>user_id</th>\n",
              "      <th>movie_id</th>\n",
              "      <th>rating</th>\n",
              "      <th>timestamp</th>\n",
              "    </tr>\n",
              "  </thead>\n",
              "  <tbody>\n",
              "    <tr>\n",
              "      <th>0</th>\n",
              "      <td>196</td>\n",
              "      <td>242</td>\n",
              "      <td>3</td>\n",
              "      <td>881250949</td>\n",
              "    </tr>\n",
              "    <tr>\n",
              "      <th>1</th>\n",
              "      <td>186</td>\n",
              "      <td>302</td>\n",
              "      <td>3</td>\n",
              "      <td>891717742</td>\n",
              "    </tr>\n",
              "    <tr>\n",
              "      <th>2</th>\n",
              "      <td>22</td>\n",
              "      <td>377</td>\n",
              "      <td>1</td>\n",
              "      <td>878887116</td>\n",
              "    </tr>\n",
              "    <tr>\n",
              "      <th>3</th>\n",
              "      <td>244</td>\n",
              "      <td>51</td>\n",
              "      <td>2</td>\n",
              "      <td>880606923</td>\n",
              "    </tr>\n",
              "    <tr>\n",
              "      <th>4</th>\n",
              "      <td>166</td>\n",
              "      <td>346</td>\n",
              "      <td>1</td>\n",
              "      <td>886397596</td>\n",
              "    </tr>\n",
              "    <tr>\n",
              "      <th>5</th>\n",
              "      <td>298</td>\n",
              "      <td>474</td>\n",
              "      <td>4</td>\n",
              "      <td>884182806</td>\n",
              "    </tr>\n",
              "    <tr>\n",
              "      <th>6</th>\n",
              "      <td>115</td>\n",
              "      <td>265</td>\n",
              "      <td>2</td>\n",
              "      <td>881171488</td>\n",
              "    </tr>\n",
              "    <tr>\n",
              "      <th>7</th>\n",
              "      <td>253</td>\n",
              "      <td>465</td>\n",
              "      <td>5</td>\n",
              "      <td>891628467</td>\n",
              "    </tr>\n",
              "    <tr>\n",
              "      <th>8</th>\n",
              "      <td>305</td>\n",
              "      <td>451</td>\n",
              "      <td>3</td>\n",
              "      <td>886324817</td>\n",
              "    </tr>\n",
              "    <tr>\n",
              "      <th>9</th>\n",
              "      <td>6</td>\n",
              "      <td>86</td>\n",
              "      <td>3</td>\n",
              "      <td>883603013</td>\n",
              "    </tr>\n",
              "  </tbody>\n",
              "</table>\n",
              "</div>"
            ],
            "text/plain": [
              "   user_id  movie_id  rating  timestamp\n",
              "0      196       242       3  881250949\n",
              "1      186       302       3  891717742\n",
              "2       22       377       1  878887116\n",
              "3      244        51       2  880606923\n",
              "4      166       346       1  886397596\n",
              "5      298       474       4  884182806\n",
              "6      115       265       2  881171488\n",
              "7      253       465       5  891628467\n",
              "8      305       451       3  886324817\n",
              "9        6        86       3  883603013"
            ]
          },
          "metadata": {
            "tags": []
          },
          "execution_count": 22
        }
      ]
    },
    {
      "cell_type": "code",
      "metadata": {
        "id": "6FNufHL8gD4I"
      },
      "source": [
        "####################################################################\n",
        "#\n",
        "# We now map the user_id and movie_id to the mappings in a new column\n",
        "# we created before. We take the number of unique movies and users\n",
        "# we have. We calculated the min and max rating for normalizing the \n",
        "# ratings columns.\n",
        "#\n",
        "####################################################################\n",
        "\n",
        "ratings['user'] = ratings['user_id'].map(user2user_encoded)\n",
        "ratings['movie'] = ratings['movie_id'].map(movie2movie_encoded)\n",
        "\n",
        "n_users = len(user2user_encoded)\n",
        "n_movies = len(movieencoded2movie)\n",
        "\n",
        "ratings['ratings'] = ratings['rating'].values.astype(np.float32)\n",
        "min_rating = min(ratings['rating'])\n",
        "max_rating = max(ratings['rating'])\n"
      ],
      "execution_count": 25,
      "outputs": []
    },
    {
      "cell_type": "code",
      "metadata": {
        "colab": {
          "base_uri": "https://localhost:8080/",
          "height": 363
        },
        "id": "l3VKzf_KpaAM",
        "outputId": "3bc509fa-1676-445e-bb4c-b8b761a09d88"
      },
      "source": [
        "####################################################################\n",
        "#\n",
        "# Ratings after mapping the user id and movie id to the encodings\n",
        "#\n",
        "####################################################################\n",
        "\n",
        "ratings[:10]"
      ],
      "execution_count": 27,
      "outputs": [
        {
          "output_type": "execute_result",
          "data": {
            "text/html": [
              "<div>\n",
              "<style scoped>\n",
              "    .dataframe tbody tr th:only-of-type {\n",
              "        vertical-align: middle;\n",
              "    }\n",
              "\n",
              "    .dataframe tbody tr th {\n",
              "        vertical-align: top;\n",
              "    }\n",
              "\n",
              "    .dataframe thead th {\n",
              "        text-align: right;\n",
              "    }\n",
              "</style>\n",
              "<table border=\"1\" class=\"dataframe\">\n",
              "  <thead>\n",
              "    <tr style=\"text-align: right;\">\n",
              "      <th></th>\n",
              "      <th>user_id</th>\n",
              "      <th>movie_id</th>\n",
              "      <th>rating</th>\n",
              "      <th>timestamp</th>\n",
              "      <th>user</th>\n",
              "      <th>movie</th>\n",
              "      <th>ratings</th>\n",
              "    </tr>\n",
              "  </thead>\n",
              "  <tbody>\n",
              "    <tr>\n",
              "      <th>0</th>\n",
              "      <td>196</td>\n",
              "      <td>242</td>\n",
              "      <td>3</td>\n",
              "      <td>881250949</td>\n",
              "      <td>0</td>\n",
              "      <td>0</td>\n",
              "      <td>3.0</td>\n",
              "    </tr>\n",
              "    <tr>\n",
              "      <th>1</th>\n",
              "      <td>186</td>\n",
              "      <td>302</td>\n",
              "      <td>3</td>\n",
              "      <td>891717742</td>\n",
              "      <td>1</td>\n",
              "      <td>1</td>\n",
              "      <td>3.0</td>\n",
              "    </tr>\n",
              "    <tr>\n",
              "      <th>2</th>\n",
              "      <td>22</td>\n",
              "      <td>377</td>\n",
              "      <td>1</td>\n",
              "      <td>878887116</td>\n",
              "      <td>2</td>\n",
              "      <td>2</td>\n",
              "      <td>1.0</td>\n",
              "    </tr>\n",
              "    <tr>\n",
              "      <th>3</th>\n",
              "      <td>244</td>\n",
              "      <td>51</td>\n",
              "      <td>2</td>\n",
              "      <td>880606923</td>\n",
              "      <td>3</td>\n",
              "      <td>3</td>\n",
              "      <td>2.0</td>\n",
              "    </tr>\n",
              "    <tr>\n",
              "      <th>4</th>\n",
              "      <td>166</td>\n",
              "      <td>346</td>\n",
              "      <td>1</td>\n",
              "      <td>886397596</td>\n",
              "      <td>4</td>\n",
              "      <td>4</td>\n",
              "      <td>1.0</td>\n",
              "    </tr>\n",
              "    <tr>\n",
              "      <th>5</th>\n",
              "      <td>298</td>\n",
              "      <td>474</td>\n",
              "      <td>4</td>\n",
              "      <td>884182806</td>\n",
              "      <td>5</td>\n",
              "      <td>5</td>\n",
              "      <td>4.0</td>\n",
              "    </tr>\n",
              "    <tr>\n",
              "      <th>6</th>\n",
              "      <td>115</td>\n",
              "      <td>265</td>\n",
              "      <td>2</td>\n",
              "      <td>881171488</td>\n",
              "      <td>6</td>\n",
              "      <td>6</td>\n",
              "      <td>2.0</td>\n",
              "    </tr>\n",
              "    <tr>\n",
              "      <th>7</th>\n",
              "      <td>253</td>\n",
              "      <td>465</td>\n",
              "      <td>5</td>\n",
              "      <td>891628467</td>\n",
              "      <td>7</td>\n",
              "      <td>7</td>\n",
              "      <td>5.0</td>\n",
              "    </tr>\n",
              "    <tr>\n",
              "      <th>8</th>\n",
              "      <td>305</td>\n",
              "      <td>451</td>\n",
              "      <td>3</td>\n",
              "      <td>886324817</td>\n",
              "      <td>8</td>\n",
              "      <td>8</td>\n",
              "      <td>3.0</td>\n",
              "    </tr>\n",
              "    <tr>\n",
              "      <th>9</th>\n",
              "      <td>6</td>\n",
              "      <td>86</td>\n",
              "      <td>3</td>\n",
              "      <td>883603013</td>\n",
              "      <td>9</td>\n",
              "      <td>9</td>\n",
              "      <td>3.0</td>\n",
              "    </tr>\n",
              "  </tbody>\n",
              "</table>\n",
              "</div>"
            ],
            "text/plain": [
              "   user_id  movie_id  rating  timestamp  user  movie  ratings\n",
              "0      196       242       3  881250949     0      0      3.0\n",
              "1      186       302       3  891717742     1      1      3.0\n",
              "2       22       377       1  878887116     2      2      1.0\n",
              "3      244        51       2  880606923     3      3      2.0\n",
              "4      166       346       1  886397596     4      4      1.0\n",
              "5      298       474       4  884182806     5      5      4.0\n",
              "6      115       265       2  881171488     6      6      2.0\n",
              "7      253       465       5  891628467     7      7      5.0\n",
              "8      305       451       3  886324817     8      8      3.0\n",
              "9        6        86       3  883603013     9      9      3.0"
            ]
          },
          "metadata": {
            "tags": []
          },
          "execution_count": 27
        }
      ]
    },
    {
      "cell_type": "code",
      "metadata": {
        "id": "piA-eqqEPMNq"
      },
      "source": [
        "####################################################################\n",
        "#\n",
        "# Shuffling the data before training and creating our training data\n",
        "# and labels. Spliting the data into Train and Valid Split.\n",
        "#\n",
        "####################################################################\n",
        "\n",
        "ratings = ratings.sample(frac=1,random_state=42)\n",
        "\n",
        "x = ratings[['user','movie']].values\n",
        "y = ratings['rating'].apply(lambda x:(x-min_rating)/(max_rating-min_rating)).values\n",
        "\n",
        "train_idx = int(0.9*ratings.shape[0])\n",
        "x_train,x_val,y_train,y_val = (x[:train_idx],\n",
        "                               x[train_idx:],\n",
        "                               y[:train_idx],\n",
        "                               y[train_idx:]\n",
        "                               )"
      ],
      "execution_count": 28,
      "outputs": []
    },
    {
      "cell_type": "code",
      "metadata": {
        "colab": {
          "base_uri": "https://localhost:8080/"
        },
        "id": "b6Ab_414wjm1",
        "outputId": "d2d608b7-1db9-44d5-d2c1-c775f5b31fdc"
      },
      "source": [
        "####################################################################\n",
        "#\n",
        "# Shape of the datasets.\n",
        "#\n",
        "####################################################################\n",
        "\n",
        "x_train.shape,x_val.shape,n_users,n_movies"
      ],
      "execution_count": 29,
      "outputs": [
        {
          "output_type": "execute_result",
          "data": {
            "text/plain": [
              "((90000, 2), (10000, 2), 943, 1682)"
            ]
          },
          "metadata": {
            "tags": []
          },
          "execution_count": 29
        }
      ]
    },
    {
      "cell_type": "code",
      "metadata": {
        "id": "mk7SyJw1f_bo"
      },
      "source": [
        "####################################################################\n",
        "#\n",
        "# Setup an Embedding size for the latent representation of the \n",
        "# users and Movies. Creating our Model.\n",
        "#\n",
        "####################################################################\n",
        "\n",
        "EMBEDDING_SIZE = 75\n",
        "\n",
        "class RecommenderNet(tf.keras.Model):\n",
        "  def __init__(self,num_users,num_movies,embedding_size,**kwargs):\n",
        "    super(RecommenderNet,self).__init__(**kwargs)\n",
        "    self.num_users =  num_users\n",
        "    self.num_movies = num_movies\n",
        "    self.embedding_size = embedding_size\n",
        "    self.user_embedding = tf.keras.layers.Embedding(\n",
        "        num_users,\n",
        "        embedding_size,\n",
        "        embeddings_initializer=\"he_normal\",\n",
        "        embeddings_regularizer=tf.keras.regularizers.l2(1e-6)\n",
        "    )\n",
        "    self.user_bias = tf.keras.layers.Embedding(num_users,1)\n",
        "    self.movie_embedding = tf.keras.layers.Embedding(\n",
        "        num_movies,\n",
        "        embedding_size,\n",
        "        embeddings_initializer=\"he_normal\",\n",
        "        embeddings_regularizer=tf.keras.regularizers.l2(1e-6)\n",
        "    )\n",
        "    self.movie_bias = tf.keras.layers.Embedding(num_movies,1)\n",
        "\n",
        "  def call(self,inputs):\n",
        "    '''\n",
        "      we perform a dot product of user vector and\n",
        "      movie vector and compare that to our labels\n",
        "    '''\n",
        "    user_vector = self.user_embedding(inputs[:,0])\n",
        "    user_bias = self.user_bias(inputs[:,0])\n",
        "    movie_vector = self.movie_embedding(inputs[:,1])\n",
        "    movie_bias = self.movie_bias(inputs[:,1])\n",
        "\n",
        "    dot_user_movie = tf.tensordot(user_vector,movie_vector,2)\n",
        "\n",
        "    x = dot_user_movie + user_bias + movie_bias\n",
        "    \n",
        "    return tf.nn.sigmoid(x)\n",
        "\n",
        "model = RecommenderNet(n_users, n_movies, EMBEDDING_SIZE)\n",
        "\n",
        "model.compile(\n",
        "    loss=tf.keras.losses.BinaryCrossentropy(),\n",
        "    optimizer=tf.keras.optimizers.Adam(lr=0.001)\n",
        ")"
      ],
      "execution_count": null,
      "outputs": []
    },
    {
      "cell_type": "code",
      "metadata": {
        "colab": {
          "base_uri": "https://localhost:8080/"
        },
        "id": "vTRZWRkHsXJE",
        "outputId": "1250daf5-f277-4b1f-bd90-03b76c43dc5c"
      },
      "source": [
        "####################################################################\n",
        "#\n",
        "# Well, After all the typing above lets run the model on the data.\n",
        "#\n",
        "####################################################################\n",
        "model.fit(\n",
        "    x = x_train,\n",
        "    y = y_train,\n",
        "    epochs=10,\n",
        "    batch_size=128,\n",
        "    verbose=1,\n",
        "    validation_data=(x_val,y_val)\n",
        ")"
      ],
      "execution_count": null,
      "outputs": [
        {
          "output_type": "stream",
          "text": [
            "Epoch 1/10\n",
            "704/704 [==============================] - 2s 3ms/step - loss: 0.6651 - val_loss: 0.6540\n",
            "Epoch 2/10\n",
            "704/704 [==============================] - 2s 2ms/step - loss: 0.6909 - val_loss: 0.6518\n",
            "Epoch 3/10\n",
            "704/704 [==============================] - 2s 2ms/step - loss: 0.6894 - val_loss: 0.6705\n",
            "Epoch 4/10\n",
            "704/704 [==============================] - 2s 3ms/step - loss: 0.7085 - val_loss: 0.6787\n",
            "Epoch 5/10\n",
            "704/704 [==============================] - 2s 3ms/step - loss: 0.7256 - val_loss: 0.6952\n",
            "Epoch 6/10\n",
            "704/704 [==============================] - 2s 3ms/step - loss: 0.7603 - val_loss: 0.7219\n",
            "Epoch 7/10\n",
            "704/704 [==============================] - 2s 3ms/step - loss: 0.7458 - val_loss: 0.7080\n",
            "Epoch 8/10\n",
            "704/704 [==============================] - 2s 2ms/step - loss: 0.7694 - val_loss: 0.6997\n",
            "Epoch 9/10\n",
            "704/704 [==============================] - 2s 3ms/step - loss: 0.7327 - val_loss: 0.7203\n",
            "Epoch 10/10\n",
            "704/704 [==============================] - 2s 3ms/step - loss: 0.7385 - val_loss: 0.6871\n"
          ],
          "name": "stdout"
        },
        {
          "output_type": "execute_result",
          "data": {
            "text/plain": [
              "<tensorflow.python.keras.callbacks.History at 0x7fb1fb5289b0>"
            ]
          },
          "metadata": {
            "tags": []
          },
          "execution_count": 64
        }
      ]
    },
    {
      "cell_type": "code",
      "metadata": {
        "colab": {
          "base_uri": "https://localhost:8080/"
        },
        "id": "-TWvN-VhuhXL",
        "outputId": "ee8e8b45-9968-44b7-e6ea-769fff6ed05f"
      },
      "source": [
        "model.summary()"
      ],
      "execution_count": null,
      "outputs": [
        {
          "output_type": "stream",
          "text": [
            "Model: \"recommender_net_8\"\n",
            "_________________________________________________________________\n",
            "Layer (type)                 Output Shape              Param #   \n",
            "=================================================================\n",
            "embedding_28 (Embedding)     multiple                  70725     \n",
            "_________________________________________________________________\n",
            "embedding_29 (Embedding)     multiple                  943       \n",
            "_________________________________________________________________\n",
            "embedding_30 (Embedding)     multiple                  126150    \n",
            "_________________________________________________________________\n",
            "embedding_31 (Embedding)     multiple                  1682      \n",
            "=================================================================\n",
            "Total params: 199,500\n",
            "Trainable params: 199,500\n",
            "Non-trainable params: 0\n",
            "_________________________________________________________________\n"
          ],
          "name": "stdout"
        }
      ]
    },
    {
      "cell_type": "code",
      "metadata": {
        "id": "S7OR3nUy09FB"
      },
      "source": [
        "####################################################################\n",
        "#\n",
        "#                             REFERENCES\n",
        "#\n",
        "# Thanks to respective articles and tutorials:\n",
        "# 1) https://keras.io/examples/structured_data/collaborative_filtering_movielens/\n",
        "# 2) https://developers.google.com/machine-learning/recommendation\n",
        "# \n",
        "#\n",
        "####################################################################"
      ],
      "execution_count": 30,
      "outputs": []
    },
    {
      "cell_type": "code",
      "metadata": {
        "id": "6BXXVcvpvdpc"
      },
      "source": [
        ""
      ],
      "execution_count": null,
      "outputs": []
    }
  ]
}